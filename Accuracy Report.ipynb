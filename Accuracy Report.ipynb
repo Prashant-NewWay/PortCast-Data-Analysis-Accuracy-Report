{
 "cells": [
  {
   "cell_type": "code",
   "execution_count": 1,
   "id": "2fdb3325",
   "metadata": {},
   "outputs": [],
   "source": [
    "#importing required libraries\n",
    "import pandas as pd\n",
    "import plotly.express as px\n",
    "import plotly.graph_objects as go\n",
    "from datetime import datetime, timedelta"
   ]
  },
  {
   "cell_type": "markdown",
   "id": "f6ab6177",
   "metadata": {},
   "source": [
    "# 1. Data Preparation"
   ]
  },
  {
   "cell_type": "code",
   "execution_count": 2,
   "id": "8ee674a4",
   "metadata": {},
   "outputs": [],
   "source": [
    "#reading files\n",
    "df = pd.read_excel(r\"C:\\Users\\prash\\Desktop\\Job\\PortCast_DataAnalyst_Assignment\\results_2021-09-30_DA Assignment.xlsx\")"
   ]
  },
  {
   "cell_type": "code",
   "execution_count": 3,
   "id": "335ac000",
   "metadata": {},
   "outputs": [
    {
     "data": {
      "text/html": [
       "<div>\n",
       "<style scoped>\n",
       "    .dataframe tbody tr th:only-of-type {\n",
       "        vertical-align: middle;\n",
       "    }\n",
       "\n",
       "    .dataframe tbody tr th {\n",
       "        vertical-align: top;\n",
       "    }\n",
       "\n",
       "    .dataframe thead th {\n",
       "        text-align: right;\n",
       "    }\n",
       "</style>\n",
       "<table border=\"1\" class=\"dataframe\">\n",
       "  <thead>\n",
       "    <tr style=\"text-align: right;\">\n",
       "      <th></th>\n",
       "      <th>vessel_live_info_id</th>\n",
       "      <th>timestamp_utc</th>\n",
       "      <th>scheduled_arrival_utc</th>\n",
       "      <th>estimated_arrival_utc</th>\n",
       "      <th>imo</th>\n",
       "      <th>port_code</th>\n",
       "      <th>actual_arrival_utc</th>\n",
       "    </tr>\n",
       "  </thead>\n",
       "  <tbody>\n",
       "    <tr>\n",
       "      <th>0</th>\n",
       "      <td>4e1582e1-ea33-4977-b84e-886f0095bee4</td>\n",
       "      <td>2021-07-02T02:32:29Z</td>\n",
       "      <td>2021-09-05T18:30:00Z</td>\n",
       "      <td>2021-08-07T13:50:21.965794Z</td>\n",
       "      <td>9393307</td>\n",
       "      <td>INMUN</td>\n",
       "      <td>2021-08-31T08:45:09.54Z</td>\n",
       "    </tr>\n",
       "    <tr>\n",
       "      <th>1</th>\n",
       "      <td>a0b4c72a-a7ec-4888-b513-77c837b0b82d</td>\n",
       "      <td>2021-07-03T03:17:16Z</td>\n",
       "      <td>2021-09-05T18:30:00Z</td>\n",
       "      <td>2021-08-07T06:24:55.229106Z</td>\n",
       "      <td>9393307</td>\n",
       "      <td>INMUN</td>\n",
       "      <td>2021-08-31T08:45:09.54Z</td>\n",
       "    </tr>\n",
       "    <tr>\n",
       "      <th>2</th>\n",
       "      <td>4947dc14-3471-48bc-bee1-7ba82e301182</td>\n",
       "      <td>2021-07-04T02:53:17Z</td>\n",
       "      <td>2021-09-05T18:30:00Z</td>\n",
       "      <td>2021-08-07T20:52:36.357922Z</td>\n",
       "      <td>9393307</td>\n",
       "      <td>INMUN</td>\n",
       "      <td>2021-08-31T08:45:09.54Z</td>\n",
       "    </tr>\n",
       "    <tr>\n",
       "      <th>3</th>\n",
       "      <td>f90f626f-1933-4c46-8749-947c2a246e0b</td>\n",
       "      <td>2021-07-04T23:55:04Z</td>\n",
       "      <td>2021-09-05T18:30:00Z</td>\n",
       "      <td>2021-08-08T16:25:14.146273Z</td>\n",
       "      <td>9393307</td>\n",
       "      <td>INMUN</td>\n",
       "      <td>2021-08-31T08:45:09.54Z</td>\n",
       "    </tr>\n",
       "    <tr>\n",
       "      <th>4</th>\n",
       "      <td>7ff01141-9dab-41ef-b1b7-70abc29df3ea</td>\n",
       "      <td>2021-07-06T00:33:44Z</td>\n",
       "      <td>2021-09-05T18:30:00Z</td>\n",
       "      <td>2021-08-08T15:46:31.015292Z</td>\n",
       "      <td>9393307</td>\n",
       "      <td>INMUN</td>\n",
       "      <td>2021-08-31T08:45:09.54Z</td>\n",
       "    </tr>\n",
       "  </tbody>\n",
       "</table>\n",
       "</div>"
      ],
      "text/plain": [
       "                    vessel_live_info_id         timestamp_utc  \\\n",
       "0  4e1582e1-ea33-4977-b84e-886f0095bee4  2021-07-02T02:32:29Z   \n",
       "1  a0b4c72a-a7ec-4888-b513-77c837b0b82d  2021-07-03T03:17:16Z   \n",
       "2  4947dc14-3471-48bc-bee1-7ba82e301182  2021-07-04T02:53:17Z   \n",
       "3  f90f626f-1933-4c46-8749-947c2a246e0b  2021-07-04T23:55:04Z   \n",
       "4  7ff01141-9dab-41ef-b1b7-70abc29df3ea  2021-07-06T00:33:44Z   \n",
       "\n",
       "  scheduled_arrival_utc        estimated_arrival_utc      imo port_code  \\\n",
       "0  2021-09-05T18:30:00Z  2021-08-07T13:50:21.965794Z  9393307     INMUN   \n",
       "1  2021-09-05T18:30:00Z  2021-08-07T06:24:55.229106Z  9393307     INMUN   \n",
       "2  2021-09-05T18:30:00Z  2021-08-07T20:52:36.357922Z  9393307     INMUN   \n",
       "3  2021-09-05T18:30:00Z  2021-08-08T16:25:14.146273Z  9393307     INMUN   \n",
       "4  2021-09-05T18:30:00Z  2021-08-08T15:46:31.015292Z  9393307     INMUN   \n",
       "\n",
       "        actual_arrival_utc  \n",
       "0  2021-08-31T08:45:09.54Z  \n",
       "1  2021-08-31T08:45:09.54Z  \n",
       "2  2021-08-31T08:45:09.54Z  \n",
       "3  2021-08-31T08:45:09.54Z  \n",
       "4  2021-08-31T08:45:09.54Z  "
      ]
     },
     "execution_count": 3,
     "metadata": {},
     "output_type": "execute_result"
    }
   ],
   "source": [
    "df.head()"
   ]
  },
  {
   "cell_type": "code",
   "execution_count": 4,
   "id": "73ed0571",
   "metadata": {},
   "outputs": [
    {
     "name": "stdout",
     "output_type": "stream",
     "text": [
      "<class 'pandas.core.frame.DataFrame'>\n",
      "RangeIndex: 6347 entries, 0 to 6346\n",
      "Data columns (total 7 columns):\n",
      " #   Column                 Non-Null Count  Dtype \n",
      "---  ------                 --------------  ----- \n",
      " 0   vessel_live_info_id    6347 non-null   object\n",
      " 1   timestamp_utc          6347 non-null   object\n",
      " 2   scheduled_arrival_utc  6347 non-null   object\n",
      " 3   estimated_arrival_utc  6347 non-null   object\n",
      " 4   imo                    6347 non-null   int64 \n",
      " 5   port_code              6347 non-null   object\n",
      " 6   actual_arrival_utc     6347 non-null   object\n",
      "dtypes: int64(1), object(6)\n",
      "memory usage: 347.2+ KB\n"
     ]
    }
   ],
   "source": [
    "df.info()\n",
    "#Understanding data types and non null count , does not contain any numeric value to use describe() to understand the data.\n",
    "#The dataset contains categorical value or datetime value or IDs"
   ]
  },
  {
   "cell_type": "code",
   "execution_count": 5,
   "id": "4cd8b3a4",
   "metadata": {},
   "outputs": [],
   "source": [
    "#converting date objects to datetime datatypes for easy calculations\n",
    "df['estimated_arrival_utc'] = pd.to_datetime(df['estimated_arrival_utc'])\n",
    "df['scheduled_arrival_utc'] = pd.to_datetime(df['scheduled_arrival_utc'])\n",
    "df['actual_arrival_utc']=pd.to_datetime(df['actual_arrival_utc'])\n",
    "df['timestamp_utc']=pd.to_datetime(df['timestamp_utc'])"
   ]
  },
  {
   "cell_type": "code",
   "execution_count": 6,
   "id": "3b36c145",
   "metadata": {},
   "outputs": [
    {
     "data": {
      "text/plain": [
       "string[python]"
      ]
     },
     "execution_count": 6,
     "metadata": {},
     "output_type": "execute_result"
    }
   ],
   "source": [
    "#converting imo to string object from integer.\n",
    "df['imo']=df.imo.astype('string')\n",
    "df['imo'].dtype"
   ]
  },
  {
   "cell_type": "markdown",
   "id": "7edd21ae",
   "metadata": {},
   "source": [
    "# 2. Data Cleaning"
   ]
  },
  {
   "cell_type": "markdown",
   "id": "7bacc404",
   "metadata": {},
   "source": [
    "## 2.1 Checking for Null Values"
   ]
  },
  {
   "cell_type": "code",
   "execution_count": 7,
   "id": "9b3bb1bd",
   "metadata": {},
   "outputs": [
    {
     "data": {
      "text/plain": [
       "vessel_live_info_id      0\n",
       "timestamp_utc            0\n",
       "scheduled_arrival_utc    0\n",
       "estimated_arrival_utc    0\n",
       "imo                      0\n",
       "port_code                0\n",
       "actual_arrival_utc       0\n",
       "dtype: int64"
      ]
     },
     "execution_count": 7,
     "metadata": {},
     "output_type": "execute_result"
    }
   ],
   "source": [
    "df.isna().sum() #no null values"
   ]
  },
  {
   "cell_type": "markdown",
   "id": "f4b0447a",
   "metadata": {},
   "source": [
    "##              2.2 Checking for Duplicated Values"
   ]
  },
  {
   "cell_type": "code",
   "execution_count": 8,
   "id": "cfeb5c4c",
   "metadata": {},
   "outputs": [
    {
     "data": {
      "text/plain": [
       "4"
      ]
     },
     "execution_count": 8,
     "metadata": {},
     "output_type": "execute_result"
    }
   ],
   "source": [
    "df.duplicated().sum() #checking no. of duplicated values"
   ]
  },
  {
   "cell_type": "code",
   "execution_count": 9,
   "id": "f9a9ab1e",
   "metadata": {},
   "outputs": [
    {
     "data": {
      "text/html": [
       "<div>\n",
       "<style scoped>\n",
       "    .dataframe tbody tr th:only-of-type {\n",
       "        vertical-align: middle;\n",
       "    }\n",
       "\n",
       "    .dataframe tbody tr th {\n",
       "        vertical-align: top;\n",
       "    }\n",
       "\n",
       "    .dataframe thead th {\n",
       "        text-align: right;\n",
       "    }\n",
       "</style>\n",
       "<table border=\"1\" class=\"dataframe\">\n",
       "  <thead>\n",
       "    <tr style=\"text-align: right;\">\n",
       "      <th></th>\n",
       "      <th>vessel_live_info_id</th>\n",
       "      <th>timestamp_utc</th>\n",
       "      <th>scheduled_arrival_utc</th>\n",
       "      <th>estimated_arrival_utc</th>\n",
       "      <th>imo</th>\n",
       "      <th>port_code</th>\n",
       "      <th>actual_arrival_utc</th>\n",
       "    </tr>\n",
       "  </thead>\n",
       "  <tbody>\n",
       "    <tr>\n",
       "      <th>3436</th>\n",
       "      <td>f870f56a-94e6-43f7-951d-00eb90d4145e</td>\n",
       "      <td>2021-09-02 10:01:40+00:00</td>\n",
       "      <td>2021-09-07 18:30:00+00:00</td>\n",
       "      <td>2021-09-05 03:33:12.070892+00:00</td>\n",
       "      <td>9393307</td>\n",
       "      <td>INNSA</td>\n",
       "      <td>2021-09-03 10:34:45+00:00</td>\n",
       "    </tr>\n",
       "    <tr>\n",
       "      <th>3517</th>\n",
       "      <td>068cfe51-37de-4107-aca1-446ff94238ad</td>\n",
       "      <td>2021-09-02 17:41:16+00:00</td>\n",
       "      <td>2021-09-07 18:30:00+00:00</td>\n",
       "      <td>2021-09-04 23:49:35.403501+00:00</td>\n",
       "      <td>9393307</td>\n",
       "      <td>INNSA</td>\n",
       "      <td>2021-09-03 10:34:45+00:00</td>\n",
       "    </tr>\n",
       "    <tr>\n",
       "      <th>3575</th>\n",
       "      <td>9e4e6f06-538d-4ea5-ba45-ed3ede52dde6</td>\n",
       "      <td>2021-09-02 20:47:56+00:00</td>\n",
       "      <td>2021-09-07 18:30:00+00:00</td>\n",
       "      <td>2021-09-05 00:06:02.475506+00:00</td>\n",
       "      <td>9393307</td>\n",
       "      <td>INNSA</td>\n",
       "      <td>2021-09-03 10:34:45+00:00</td>\n",
       "    </tr>\n",
       "    <tr>\n",
       "      <th>3694</th>\n",
       "      <td>f26290e6-d63b-479a-b689-f6336c77aec5</td>\n",
       "      <td>2021-09-03 09:32:16+00:00</td>\n",
       "      <td>2021-09-07 18:30:00+00:00</td>\n",
       "      <td>2021-09-04 18:22:09.655579+00:00</td>\n",
       "      <td>9393307</td>\n",
       "      <td>INNSA</td>\n",
       "      <td>2021-09-03 10:34:45+00:00</td>\n",
       "    </tr>\n",
       "  </tbody>\n",
       "</table>\n",
       "</div>"
      ],
      "text/plain": [
       "                       vessel_live_info_id             timestamp_utc  \\\n",
       "3436  f870f56a-94e6-43f7-951d-00eb90d4145e 2021-09-02 10:01:40+00:00   \n",
       "3517  068cfe51-37de-4107-aca1-446ff94238ad 2021-09-02 17:41:16+00:00   \n",
       "3575  9e4e6f06-538d-4ea5-ba45-ed3ede52dde6 2021-09-02 20:47:56+00:00   \n",
       "3694  f26290e6-d63b-479a-b689-f6336c77aec5 2021-09-03 09:32:16+00:00   \n",
       "\n",
       "         scheduled_arrival_utc            estimated_arrival_utc      imo  \\\n",
       "3436 2021-09-07 18:30:00+00:00 2021-09-05 03:33:12.070892+00:00  9393307   \n",
       "3517 2021-09-07 18:30:00+00:00 2021-09-04 23:49:35.403501+00:00  9393307   \n",
       "3575 2021-09-07 18:30:00+00:00 2021-09-05 00:06:02.475506+00:00  9393307   \n",
       "3694 2021-09-07 18:30:00+00:00 2021-09-04 18:22:09.655579+00:00  9393307   \n",
       "\n",
       "     port_code        actual_arrival_utc  \n",
       "3436     INNSA 2021-09-03 10:34:45+00:00  \n",
       "3517     INNSA 2021-09-03 10:34:45+00:00  \n",
       "3575     INNSA 2021-09-03 10:34:45+00:00  \n",
       "3694     INNSA 2021-09-03 10:34:45+00:00  "
      ]
     },
     "execution_count": 9,
     "metadata": {},
     "output_type": "execute_result"
    }
   ],
   "source": [
    "df.loc[df.duplicated()] #understanding the specific row duplicates"
   ]
  },
  {
   "cell_type": "code",
   "execution_count": 10,
   "id": "e492ef38",
   "metadata": {},
   "outputs": [
    {
     "data": {
      "text/html": [
       "<div>\n",
       "<style scoped>\n",
       "    .dataframe tbody tr th:only-of-type {\n",
       "        vertical-align: middle;\n",
       "    }\n",
       "\n",
       "    .dataframe tbody tr th {\n",
       "        vertical-align: top;\n",
       "    }\n",
       "\n",
       "    .dataframe thead th {\n",
       "        text-align: right;\n",
       "    }\n",
       "</style>\n",
       "<table border=\"1\" class=\"dataframe\">\n",
       "  <thead>\n",
       "    <tr style=\"text-align: right;\">\n",
       "      <th></th>\n",
       "      <th>vessel_live_info_id</th>\n",
       "      <th>timestamp_utc</th>\n",
       "      <th>scheduled_arrival_utc</th>\n",
       "      <th>estimated_arrival_utc</th>\n",
       "      <th>imo</th>\n",
       "      <th>port_code</th>\n",
       "      <th>actual_arrival_utc</th>\n",
       "    </tr>\n",
       "  </thead>\n",
       "  <tbody>\n",
       "    <tr>\n",
       "      <th>3435</th>\n",
       "      <td>f870f56a-94e6-43f7-951d-00eb90d4145e</td>\n",
       "      <td>2021-09-02 10:01:40+00:00</td>\n",
       "      <td>2021-09-07 18:30:00+00:00</td>\n",
       "      <td>2021-09-05 03:33:12.070892+00:00</td>\n",
       "      <td>9393307</td>\n",
       "      <td>INNSA</td>\n",
       "      <td>2021-09-03 10:34:45+00:00</td>\n",
       "    </tr>\n",
       "    <tr>\n",
       "      <th>3436</th>\n",
       "      <td>f870f56a-94e6-43f7-951d-00eb90d4145e</td>\n",
       "      <td>2021-09-02 10:01:40+00:00</td>\n",
       "      <td>2021-09-07 18:30:00+00:00</td>\n",
       "      <td>2021-09-05 03:33:12.070892+00:00</td>\n",
       "      <td>9393307</td>\n",
       "      <td>INNSA</td>\n",
       "      <td>2021-09-03 10:34:45+00:00</td>\n",
       "    </tr>\n",
       "  </tbody>\n",
       "</table>\n",
       "</div>"
      ],
      "text/plain": [
       "                       vessel_live_info_id             timestamp_utc  \\\n",
       "3435  f870f56a-94e6-43f7-951d-00eb90d4145e 2021-09-02 10:01:40+00:00   \n",
       "3436  f870f56a-94e6-43f7-951d-00eb90d4145e 2021-09-02 10:01:40+00:00   \n",
       "\n",
       "         scheduled_arrival_utc            estimated_arrival_utc      imo  \\\n",
       "3435 2021-09-07 18:30:00+00:00 2021-09-05 03:33:12.070892+00:00  9393307   \n",
       "3436 2021-09-07 18:30:00+00:00 2021-09-05 03:33:12.070892+00:00  9393307   \n",
       "\n",
       "     port_code        actual_arrival_utc  \n",
       "3435     INNSA 2021-09-03 10:34:45+00:00  \n",
       "3436     INNSA 2021-09-03 10:34:45+00:00  "
      ]
     },
     "execution_count": 10,
     "metadata": {},
     "output_type": "execute_result"
    }
   ],
   "source": [
    "df.query(\"vessel_live_info_id == 'f870f56a-94e6-43f7-951d-00eb90d4145e'\") #same input"
   ]
  },
  {
   "cell_type": "code",
   "execution_count": 11,
   "id": "509f6c06",
   "metadata": {},
   "outputs": [
    {
     "data": {
      "text/html": [
       "<div>\n",
       "<style scoped>\n",
       "    .dataframe tbody tr th:only-of-type {\n",
       "        vertical-align: middle;\n",
       "    }\n",
       "\n",
       "    .dataframe tbody tr th {\n",
       "        vertical-align: top;\n",
       "    }\n",
       "\n",
       "    .dataframe thead th {\n",
       "        text-align: right;\n",
       "    }\n",
       "</style>\n",
       "<table border=\"1\" class=\"dataframe\">\n",
       "  <thead>\n",
       "    <tr style=\"text-align: right;\">\n",
       "      <th></th>\n",
       "      <th>vessel_live_info_id</th>\n",
       "      <th>timestamp_utc</th>\n",
       "      <th>scheduled_arrival_utc</th>\n",
       "      <th>estimated_arrival_utc</th>\n",
       "      <th>imo</th>\n",
       "      <th>port_code</th>\n",
       "      <th>actual_arrival_utc</th>\n",
       "    </tr>\n",
       "  </thead>\n",
       "  <tbody>\n",
       "    <tr>\n",
       "      <th>0</th>\n",
       "      <td>4e1582e1-ea33-4977-b84e-886f0095bee4</td>\n",
       "      <td>2021-07-02 02:32:29+00:00</td>\n",
       "      <td>2021-09-05 18:30:00+00:00</td>\n",
       "      <td>2021-08-07 13:50:21.965794+00:00</td>\n",
       "      <td>9393307</td>\n",
       "      <td>INMUN</td>\n",
       "      <td>2021-08-31 08:45:09.540000+00:00</td>\n",
       "    </tr>\n",
       "    <tr>\n",
       "      <th>1</th>\n",
       "      <td>a0b4c72a-a7ec-4888-b513-77c837b0b82d</td>\n",
       "      <td>2021-07-03 03:17:16+00:00</td>\n",
       "      <td>2021-09-05 18:30:00+00:00</td>\n",
       "      <td>2021-08-07 06:24:55.229106+00:00</td>\n",
       "      <td>9393307</td>\n",
       "      <td>INMUN</td>\n",
       "      <td>2021-08-31 08:45:09.540000+00:00</td>\n",
       "    </tr>\n",
       "    <tr>\n",
       "      <th>2</th>\n",
       "      <td>4947dc14-3471-48bc-bee1-7ba82e301182</td>\n",
       "      <td>2021-07-04 02:53:17+00:00</td>\n",
       "      <td>2021-09-05 18:30:00+00:00</td>\n",
       "      <td>2021-08-07 20:52:36.357922+00:00</td>\n",
       "      <td>9393307</td>\n",
       "      <td>INMUN</td>\n",
       "      <td>2021-08-31 08:45:09.540000+00:00</td>\n",
       "    </tr>\n",
       "    <tr>\n",
       "      <th>3</th>\n",
       "      <td>f90f626f-1933-4c46-8749-947c2a246e0b</td>\n",
       "      <td>2021-07-04 23:55:04+00:00</td>\n",
       "      <td>2021-09-05 18:30:00+00:00</td>\n",
       "      <td>2021-08-08 16:25:14.146273+00:00</td>\n",
       "      <td>9393307</td>\n",
       "      <td>INMUN</td>\n",
       "      <td>2021-08-31 08:45:09.540000+00:00</td>\n",
       "    </tr>\n",
       "    <tr>\n",
       "      <th>4</th>\n",
       "      <td>7ff01141-9dab-41ef-b1b7-70abc29df3ea</td>\n",
       "      <td>2021-07-06 00:33:44+00:00</td>\n",
       "      <td>2021-09-05 18:30:00+00:00</td>\n",
       "      <td>2021-08-08 15:46:31.015292+00:00</td>\n",
       "      <td>9393307</td>\n",
       "      <td>INMUN</td>\n",
       "      <td>2021-08-31 08:45:09.540000+00:00</td>\n",
       "    </tr>\n",
       "  </tbody>\n",
       "</table>\n",
       "</div>"
      ],
      "text/plain": [
       "                    vessel_live_info_id             timestamp_utc  \\\n",
       "0  4e1582e1-ea33-4977-b84e-886f0095bee4 2021-07-02 02:32:29+00:00   \n",
       "1  a0b4c72a-a7ec-4888-b513-77c837b0b82d 2021-07-03 03:17:16+00:00   \n",
       "2  4947dc14-3471-48bc-bee1-7ba82e301182 2021-07-04 02:53:17+00:00   \n",
       "3  f90f626f-1933-4c46-8749-947c2a246e0b 2021-07-04 23:55:04+00:00   \n",
       "4  7ff01141-9dab-41ef-b1b7-70abc29df3ea 2021-07-06 00:33:44+00:00   \n",
       "\n",
       "      scheduled_arrival_utc            estimated_arrival_utc      imo  \\\n",
       "0 2021-09-05 18:30:00+00:00 2021-08-07 13:50:21.965794+00:00  9393307   \n",
       "1 2021-09-05 18:30:00+00:00 2021-08-07 06:24:55.229106+00:00  9393307   \n",
       "2 2021-09-05 18:30:00+00:00 2021-08-07 20:52:36.357922+00:00  9393307   \n",
       "3 2021-09-05 18:30:00+00:00 2021-08-08 16:25:14.146273+00:00  9393307   \n",
       "4 2021-09-05 18:30:00+00:00 2021-08-08 15:46:31.015292+00:00  9393307   \n",
       "\n",
       "  port_code               actual_arrival_utc  \n",
       "0     INMUN 2021-08-31 08:45:09.540000+00:00  \n",
       "1     INMUN 2021-08-31 08:45:09.540000+00:00  \n",
       "2     INMUN 2021-08-31 08:45:09.540000+00:00  \n",
       "3     INMUN 2021-08-31 08:45:09.540000+00:00  \n",
       "4     INMUN 2021-08-31 08:45:09.540000+00:00  "
      ]
     },
     "execution_count": 11,
     "metadata": {},
     "output_type": "execute_result"
    }
   ],
   "source": [
    "df = df.loc[~df.duplicated()].reset_index(drop=True).copy()   #removing duplicates \n",
    "df.head(5)"
   ]
  },
  {
   "cell_type": "code",
   "execution_count": 12,
   "id": "2c7f9eee",
   "metadata": {},
   "outputs": [
    {
     "data": {
      "text/plain": [
       "0"
      ]
     },
     "execution_count": 12,
     "metadata": {},
     "output_type": "execute_result"
    }
   ],
   "source": [
    "df.duplicated().sum()"
   ]
  },
  {
   "cell_type": "markdown",
   "id": "9cc38824",
   "metadata": {},
   "source": [
    "### Looking into specific column subset and scenarios of Data Duplication"
   ]
  },
  {
   "cell_type": "markdown",
   "id": "24fa956f",
   "metadata": {},
   "source": [
    "#### 2.2.1 From the Subset of 'vessel_live_info_id' "
   ]
  },
  {
   "cell_type": "code",
   "execution_count": 13,
   "id": "a2aa2cd0",
   "metadata": {},
   "outputs": [
    {
     "data": {
      "text/plain": [
       "2450"
      ]
     },
     "execution_count": 13,
     "metadata": {},
     "output_type": "execute_result"
    }
   ],
   "source": [
    "df.duplicated(subset = ['vessel_live_info_id']).sum() #duplicated unique id"
   ]
  },
  {
   "cell_type": "code",
   "execution_count": 14,
   "id": "3b190c0d",
   "metadata": {},
   "outputs": [
    {
     "data": {
      "text/html": [
       "<div>\n",
       "<style scoped>\n",
       "    .dataframe tbody tr th:only-of-type {\n",
       "        vertical-align: middle;\n",
       "    }\n",
       "\n",
       "    .dataframe tbody tr th {\n",
       "        vertical-align: top;\n",
       "    }\n",
       "\n",
       "    .dataframe thead th {\n",
       "        text-align: right;\n",
       "    }\n",
       "</style>\n",
       "<table border=\"1\" class=\"dataframe\">\n",
       "  <thead>\n",
       "    <tr style=\"text-align: right;\">\n",
       "      <th></th>\n",
       "      <th>vessel_live_info_id</th>\n",
       "      <th>timestamp_utc</th>\n",
       "      <th>scheduled_arrival_utc</th>\n",
       "      <th>estimated_arrival_utc</th>\n",
       "      <th>imo</th>\n",
       "      <th>port_code</th>\n",
       "      <th>actual_arrival_utc</th>\n",
       "    </tr>\n",
       "  </thead>\n",
       "  <tbody>\n",
       "    <tr>\n",
       "      <th>5</th>\n",
       "      <td>7ff01141-9dab-41ef-b1b7-70abc29df3ea</td>\n",
       "      <td>2021-07-06 00:33:44+00:00</td>\n",
       "      <td>2021-09-07 18:30:00+00:00</td>\n",
       "      <td>2021-08-12 14:02:21.436635+00:00</td>\n",
       "      <td>9393307</td>\n",
       "      <td>INNSA</td>\n",
       "      <td>2021-09-03 10:34:45+00:00</td>\n",
       "    </tr>\n",
       "    <tr>\n",
       "      <th>19</th>\n",
       "      <td>2492fbb4-93ce-4534-89ca-4db60c78b864</td>\n",
       "      <td>2021-07-08 20:18:19+00:00</td>\n",
       "      <td>2021-09-07 18:30:00+00:00</td>\n",
       "      <td>2021-08-12 07:30:20.886850+00:00</td>\n",
       "      <td>9393307</td>\n",
       "      <td>INNSA</td>\n",
       "      <td>2021-09-03 10:34:45+00:00</td>\n",
       "    </tr>\n",
       "    <tr>\n",
       "      <th>22</th>\n",
       "      <td>f0987189-66a5-44e3-a1ba-1e8636d1f573</td>\n",
       "      <td>2021-07-08 21:54:41+00:00</td>\n",
       "      <td>2021-09-05 18:30:00+00:00</td>\n",
       "      <td>2021-08-08 07:49:45.260250+00:00</td>\n",
       "      <td>9393307</td>\n",
       "      <td>INMUN</td>\n",
       "      <td>2021-08-31 08:45:09.540000+00:00</td>\n",
       "    </tr>\n",
       "    <tr>\n",
       "      <th>23</th>\n",
       "      <td>f0987189-66a5-44e3-a1ba-1e8636d1f573</td>\n",
       "      <td>2021-07-08 21:54:41+00:00</td>\n",
       "      <td>2021-09-07 18:30:00+00:00</td>\n",
       "      <td>2021-08-12 05:32:40.068450+00:00</td>\n",
       "      <td>9393307</td>\n",
       "      <td>INNSA</td>\n",
       "      <td>2021-09-03 10:34:45+00:00</td>\n",
       "    </tr>\n",
       "    <tr>\n",
       "      <th>24</th>\n",
       "      <td>f0987189-66a5-44e3-a1ba-1e8636d1f573</td>\n",
       "      <td>2021-07-08 21:54:41+00:00</td>\n",
       "      <td>2021-09-07 18:30:00+00:00</td>\n",
       "      <td>2021-08-12 06:38:09.472166+00:00</td>\n",
       "      <td>9393307</td>\n",
       "      <td>INNSA</td>\n",
       "      <td>2021-09-03 10:34:45+00:00</td>\n",
       "    </tr>\n",
       "  </tbody>\n",
       "</table>\n",
       "</div>"
      ],
      "text/plain": [
       "                     vessel_live_info_id             timestamp_utc  \\\n",
       "5   7ff01141-9dab-41ef-b1b7-70abc29df3ea 2021-07-06 00:33:44+00:00   \n",
       "19  2492fbb4-93ce-4534-89ca-4db60c78b864 2021-07-08 20:18:19+00:00   \n",
       "22  f0987189-66a5-44e3-a1ba-1e8636d1f573 2021-07-08 21:54:41+00:00   \n",
       "23  f0987189-66a5-44e3-a1ba-1e8636d1f573 2021-07-08 21:54:41+00:00   \n",
       "24  f0987189-66a5-44e3-a1ba-1e8636d1f573 2021-07-08 21:54:41+00:00   \n",
       "\n",
       "       scheduled_arrival_utc            estimated_arrival_utc      imo  \\\n",
       "5  2021-09-07 18:30:00+00:00 2021-08-12 14:02:21.436635+00:00  9393307   \n",
       "19 2021-09-07 18:30:00+00:00 2021-08-12 07:30:20.886850+00:00  9393307   \n",
       "22 2021-09-05 18:30:00+00:00 2021-08-08 07:49:45.260250+00:00  9393307   \n",
       "23 2021-09-07 18:30:00+00:00 2021-08-12 05:32:40.068450+00:00  9393307   \n",
       "24 2021-09-07 18:30:00+00:00 2021-08-12 06:38:09.472166+00:00  9393307   \n",
       "\n",
       "   port_code               actual_arrival_utc  \n",
       "5      INNSA        2021-09-03 10:34:45+00:00  \n",
       "19     INNSA        2021-09-03 10:34:45+00:00  \n",
       "22     INMUN 2021-08-31 08:45:09.540000+00:00  \n",
       "23     INNSA        2021-09-03 10:34:45+00:00  \n",
       "24     INNSA        2021-09-03 10:34:45+00:00  "
      ]
     },
     "execution_count": 14,
     "metadata": {},
     "output_type": "execute_result"
    }
   ],
   "source": [
    "df.loc[df.duplicated(subset = ['vessel_live_info_id'])].head(5)"
   ]
  },
  {
   "cell_type": "markdown",
   "id": "0689cc55",
   "metadata": {},
   "source": [
    "2450 rows have duplicated id"
   ]
  },
  {
   "cell_type": "code",
   "execution_count": 15,
   "id": "c277461e",
   "metadata": {},
   "outputs": [
    {
     "data": {
      "text/html": [
       "<div>\n",
       "<style scoped>\n",
       "    .dataframe tbody tr th:only-of-type {\n",
       "        vertical-align: middle;\n",
       "    }\n",
       "\n",
       "    .dataframe tbody tr th {\n",
       "        vertical-align: top;\n",
       "    }\n",
       "\n",
       "    .dataframe thead th {\n",
       "        text-align: right;\n",
       "    }\n",
       "</style>\n",
       "<table border=\"1\" class=\"dataframe\">\n",
       "  <thead>\n",
       "    <tr style=\"text-align: right;\">\n",
       "      <th></th>\n",
       "      <th>vessel_live_info_id</th>\n",
       "      <th>timestamp_utc</th>\n",
       "      <th>scheduled_arrival_utc</th>\n",
       "      <th>estimated_arrival_utc</th>\n",
       "      <th>imo</th>\n",
       "      <th>port_code</th>\n",
       "      <th>actual_arrival_utc</th>\n",
       "    </tr>\n",
       "  </thead>\n",
       "  <tbody>\n",
       "    <tr>\n",
       "      <th>42</th>\n",
       "      <td>398e1d6b-6753-4b2b-8b91-1e8f6e31e231</td>\n",
       "      <td>2021-07-10 15:40:47+00:00</td>\n",
       "      <td>2021-09-05 18:30:00+00:00</td>\n",
       "      <td>2021-08-08 23:44:42.277339+00:00</td>\n",
       "      <td>9393307</td>\n",
       "      <td>INMUN</td>\n",
       "      <td>2021-08-31 08:45:09.540000+00:00</td>\n",
       "    </tr>\n",
       "    <tr>\n",
       "      <th>43</th>\n",
       "      <td>398e1d6b-6753-4b2b-8b91-1e8f6e31e231</td>\n",
       "      <td>2021-07-10 15:40:47+00:00</td>\n",
       "      <td>2021-09-07 18:30:00+00:00</td>\n",
       "      <td>2021-08-12 21:27:37.085539+00:00</td>\n",
       "      <td>9393307</td>\n",
       "      <td>INNSA</td>\n",
       "      <td>2021-09-03 10:34:45+00:00</td>\n",
       "    </tr>\n",
       "  </tbody>\n",
       "</table>\n",
       "</div>"
      ],
      "text/plain": [
       "                     vessel_live_info_id             timestamp_utc  \\\n",
       "42  398e1d6b-6753-4b2b-8b91-1e8f6e31e231 2021-07-10 15:40:47+00:00   \n",
       "43  398e1d6b-6753-4b2b-8b91-1e8f6e31e231 2021-07-10 15:40:47+00:00   \n",
       "\n",
       "       scheduled_arrival_utc            estimated_arrival_utc      imo  \\\n",
       "42 2021-09-05 18:30:00+00:00 2021-08-08 23:44:42.277339+00:00  9393307   \n",
       "43 2021-09-07 18:30:00+00:00 2021-08-12 21:27:37.085539+00:00  9393307   \n",
       "\n",
       "   port_code               actual_arrival_utc  \n",
       "42     INMUN 2021-08-31 08:45:09.540000+00:00  \n",
       "43     INNSA        2021-09-03 10:34:45+00:00  "
      ]
     },
     "execution_count": 15,
     "metadata": {},
     "output_type": "execute_result"
    }
   ],
   "source": [
    "df.query(\"vessel_live_info_id == '398e1d6b-6753-4b2b-8b91-1e8f6e31e231'\")#understanding specific instance"
   ]
  },
  {
   "cell_type": "markdown",
   "id": "c1839ff1",
   "metadata": {},
   "source": [
    "#### 'vessel_live_info_id' which is defined as unique id for prediction results has multiple entries"
   ]
  },
  {
   "cell_type": "markdown",
   "id": "6a7f7b25",
   "metadata": {},
   "source": [
    "#### Not all of these can be removed since they represent different freight values and has meaning full data"
   ]
  },
  {
   "cell_type": "markdown",
   "id": "da884c48",
   "metadata": {},
   "source": [
    "#### 2.2.2 From the Subset pair  of 'vessel_live_info_id' and 'scheduled_arrival_utc'"
   ]
  },
  {
   "cell_type": "code",
   "execution_count": 16,
   "id": "43f2632c",
   "metadata": {},
   "outputs": [
    {
     "data": {
      "text/plain": [
       "62"
      ]
     },
     "execution_count": 16,
     "metadata": {},
     "output_type": "execute_result"
    }
   ],
   "source": [
    "#Checking Duplicate values column pair wise\n",
    "df.duplicated(subset = ['vessel_live_info_id','scheduled_arrival_utc']).sum() \n"
   ]
  },
  {
   "cell_type": "markdown",
   "id": "ee729ed9",
   "metadata": {},
   "source": [
    "#### 62 rows has the same vessel_live_info_id and scheduled_arrival_utc pair.This has been a main reason for wrong scheduled data"
   ]
  },
  {
   "cell_type": "code",
   "execution_count": 17,
   "id": "6856a897",
   "metadata": {},
   "outputs": [
    {
     "data": {
      "text/html": [
       "<div>\n",
       "<style scoped>\n",
       "    .dataframe tbody tr th:only-of-type {\n",
       "        vertical-align: middle;\n",
       "    }\n",
       "\n",
       "    .dataframe tbody tr th {\n",
       "        vertical-align: top;\n",
       "    }\n",
       "\n",
       "    .dataframe thead th {\n",
       "        text-align: right;\n",
       "    }\n",
       "</style>\n",
       "<table border=\"1\" class=\"dataframe\">\n",
       "  <thead>\n",
       "    <tr style=\"text-align: right;\">\n",
       "      <th></th>\n",
       "      <th>vessel_live_info_id</th>\n",
       "      <th>timestamp_utc</th>\n",
       "      <th>scheduled_arrival_utc</th>\n",
       "      <th>estimated_arrival_utc</th>\n",
       "      <th>imo</th>\n",
       "      <th>port_code</th>\n",
       "      <th>actual_arrival_utc</th>\n",
       "    </tr>\n",
       "  </thead>\n",
       "  <tbody>\n",
       "    <tr>\n",
       "      <th>22</th>\n",
       "      <td>f0987189-66a5-44e3-a1ba-1e8636d1f573</td>\n",
       "      <td>2021-07-08 21:54:41+00:00</td>\n",
       "      <td>2021-09-05 18:30:00+00:00</td>\n",
       "      <td>2021-08-08 07:49:45.260250+00:00</td>\n",
       "      <td>9393307</td>\n",
       "      <td>INMUN</td>\n",
       "      <td>2021-08-31 08:45:09.540000+00:00</td>\n",
       "    </tr>\n",
       "    <tr>\n",
       "      <th>24</th>\n",
       "      <td>f0987189-66a5-44e3-a1ba-1e8636d1f573</td>\n",
       "      <td>2021-07-08 21:54:41+00:00</td>\n",
       "      <td>2021-09-07 18:30:00+00:00</td>\n",
       "      <td>2021-08-12 06:38:09.472166+00:00</td>\n",
       "      <td>9393307</td>\n",
       "      <td>INNSA</td>\n",
       "      <td>2021-09-03 10:34:45+00:00</td>\n",
       "    </tr>\n",
       "    <tr>\n",
       "      <th>47</th>\n",
       "      <td>df8dd45d-1af9-4ad9-8465-e07b430a7363</td>\n",
       "      <td>2021-07-11 21:08:02+00:00</td>\n",
       "      <td>2021-09-05 18:30:00+00:00</td>\n",
       "      <td>2021-08-08 10:46:22.586325+00:00</td>\n",
       "      <td>9393307</td>\n",
       "      <td>INMUN</td>\n",
       "      <td>2021-08-31 08:45:09.540000+00:00</td>\n",
       "    </tr>\n",
       "    <tr>\n",
       "      <th>49</th>\n",
       "      <td>df8dd45d-1af9-4ad9-8465-e07b430a7363</td>\n",
       "      <td>2021-07-11 21:08:02+00:00</td>\n",
       "      <td>2021-09-07 18:30:00+00:00</td>\n",
       "      <td>2021-08-12 13:08:00.423891+00:00</td>\n",
       "      <td>9393307</td>\n",
       "      <td>INNSA</td>\n",
       "      <td>2021-09-03 10:34:45+00:00</td>\n",
       "    </tr>\n",
       "    <tr>\n",
       "      <th>63</th>\n",
       "      <td>99bafd03-b157-4f9a-b799-7f287bd61b3e</td>\n",
       "      <td>2021-07-13 10:20:09+00:00</td>\n",
       "      <td>2021-09-05 18:30:00+00:00</td>\n",
       "      <td>2021-08-09 17:06:02.816024+00:00</td>\n",
       "      <td>9393307</td>\n",
       "      <td>INMUN</td>\n",
       "      <td>2021-08-31 08:45:09.540000+00:00</td>\n",
       "    </tr>\n",
       "  </tbody>\n",
       "</table>\n",
       "</div>"
      ],
      "text/plain": [
       "                     vessel_live_info_id             timestamp_utc  \\\n",
       "22  f0987189-66a5-44e3-a1ba-1e8636d1f573 2021-07-08 21:54:41+00:00   \n",
       "24  f0987189-66a5-44e3-a1ba-1e8636d1f573 2021-07-08 21:54:41+00:00   \n",
       "47  df8dd45d-1af9-4ad9-8465-e07b430a7363 2021-07-11 21:08:02+00:00   \n",
       "49  df8dd45d-1af9-4ad9-8465-e07b430a7363 2021-07-11 21:08:02+00:00   \n",
       "63  99bafd03-b157-4f9a-b799-7f287bd61b3e 2021-07-13 10:20:09+00:00   \n",
       "\n",
       "       scheduled_arrival_utc            estimated_arrival_utc      imo  \\\n",
       "22 2021-09-05 18:30:00+00:00 2021-08-08 07:49:45.260250+00:00  9393307   \n",
       "24 2021-09-07 18:30:00+00:00 2021-08-12 06:38:09.472166+00:00  9393307   \n",
       "47 2021-09-05 18:30:00+00:00 2021-08-08 10:46:22.586325+00:00  9393307   \n",
       "49 2021-09-07 18:30:00+00:00 2021-08-12 13:08:00.423891+00:00  9393307   \n",
       "63 2021-09-05 18:30:00+00:00 2021-08-09 17:06:02.816024+00:00  9393307   \n",
       "\n",
       "   port_code               actual_arrival_utc  \n",
       "22     INMUN 2021-08-31 08:45:09.540000+00:00  \n",
       "24     INNSA        2021-09-03 10:34:45+00:00  \n",
       "47     INMUN 2021-08-31 08:45:09.540000+00:00  \n",
       "49     INNSA        2021-09-03 10:34:45+00:00  \n",
       "63     INMUN 2021-08-31 08:45:09.540000+00:00  "
      ]
     },
     "execution_count": 17,
     "metadata": {},
     "output_type": "execute_result"
    }
   ],
   "source": [
    "df.loc[df.duplicated(subset = ['vessel_live_info_id','scheduled_arrival_utc'])].head(5) #checking specific instance"
   ]
  },
  {
   "cell_type": "code",
   "execution_count": 18,
   "id": "95d9463d",
   "metadata": {},
   "outputs": [],
   "source": [
    "df['scheduled_arrival_utc_time'] = df['scheduled_arrival_utc'].dt.time # separating time "
   ]
  },
  {
   "cell_type": "code",
   "execution_count": 19,
   "id": "cfe6f074",
   "metadata": {},
   "outputs": [],
   "source": [
    "df['port_code_country_initials'] = df['port_code'].str[:2] #looking into port country with port_code initials"
   ]
  },
  {
   "cell_type": "code",
   "execution_count": 20,
   "id": "81b1567c",
   "metadata": {},
   "outputs": [
    {
     "data": {
      "text/plain": [
       "18:30:00    60\n",
       "21:59:00     1\n",
       "12:00:00     1\n",
       "Name: scheduled_arrival_utc_time, dtype: int64"
      ]
     },
     "execution_count": 20,
     "metadata": {},
     "output_type": "execute_result"
    }
   ],
   "source": [
    "df.loc[df.duplicated(subset = ['vessel_live_info_id','scheduled_arrival_utc'])]\\\n",
    ".scheduled_arrival_utc_time.value_counts()"
   ]
  },
  {
   "cell_type": "code",
   "execution_count": 21,
   "id": "b45e9d6b",
   "metadata": {},
   "outputs": [
    {
     "data": {
      "image/png": "[encoded data removed]"
     },
     "metadata": {},
     "output_type": "display_data"
    }
   ],
   "source": [
    "#Very much skewed towards particular time\n",
    "fig=px.bar(df.loc[df.duplicated(subset = ['vessel_live_info_id','scheduled_arrival_utc'])].scheduled_arrival_utc_time)  \n",
    "fig.show(\"png\")"
   ]
  },
  {
   "cell_type": "code",
   "execution_count": 22,
   "id": "e35d7950",
   "metadata": {},
   "outputs": [
    {
     "data": {
      "text/plain": [
       "IN    60\n",
       "PA     1\n",
       "US     1\n",
       "Name: port_code_country_initials, dtype: int64"
      ]
     },
     "execution_count": 22,
     "metadata": {},
     "output_type": "execute_result"
    }
   ],
   "source": [
    "df.loc[df.duplicated(subset = ['vessel_live_info_id','scheduled_arrival_utc'])]\\\n",
    ".port_code_country_initials.value_counts()"
   ]
  },
  {
   "cell_type": "code",
   "execution_count": 23,
   "id": "cc2a101e",
   "metadata": {},
   "outputs": [
    {
     "data": {
      "image/png": "[encoded data removed]"
     },
     "metadata": {},
     "output_type": "display_data"
    }
   ],
   "source": [
    "#Very much skewed towards particular region\n",
    "fig=px.bar(df.loc[df.duplicated(subset = ['vessel_live_info_id','scheduled_arrival_utc'])].port_code_country_initials)  \n",
    "fig.show('png')"
   ]
  },
  {
   "cell_type": "markdown",
   "id": "918ead37",
   "metadata": {},
   "source": [
    "#### These specific schedule data which has been sourced with 'IN'portcode initials which signifies country of origin with 18:30 as common time for all the duplicated pair is clearly a major error."
   ]
  },
  {
   "cell_type": "code",
   "execution_count": 24,
   "id": "f587e74b",
   "metadata": {},
   "outputs": [
    {
     "data": {
      "text/html": [
       "<div>\n",
       "<style scoped>\n",
       "    .dataframe tbody tr th:only-of-type {\n",
       "        vertical-align: middle;\n",
       "    }\n",
       "\n",
       "    .dataframe tbody tr th {\n",
       "        vertical-align: top;\n",
       "    }\n",
       "\n",
       "    .dataframe thead th {\n",
       "        text-align: right;\n",
       "    }\n",
       "</style>\n",
       "<table border=\"1\" class=\"dataframe\">\n",
       "  <thead>\n",
       "    <tr style=\"text-align: right;\">\n",
       "      <th></th>\n",
       "      <th>vessel_live_info_id</th>\n",
       "      <th>timestamp_utc</th>\n",
       "      <th>scheduled_arrival_utc</th>\n",
       "      <th>estimated_arrival_utc</th>\n",
       "      <th>imo</th>\n",
       "      <th>port_code</th>\n",
       "      <th>actual_arrival_utc</th>\n",
       "      <th>scheduled_arrival_utc_time</th>\n",
       "      <th>port_code_country_initials</th>\n",
       "    </tr>\n",
       "  </thead>\n",
       "  <tbody>\n",
       "    <tr>\n",
       "      <th>3184</th>\n",
       "      <td>90d90a2b-cfa4-4ad3-931e-4551206cb86e</td>\n",
       "      <td>2021-09-01 00:30:07+00:00</td>\n",
       "      <td>2021-09-07 18:30:00+00:00</td>\n",
       "      <td>2021-09-03 20:56:00.328220+00:00</td>\n",
       "      <td>9393307</td>\n",
       "      <td>INNSA</td>\n",
       "      <td>2021-09-03 10:34:45+00:00</td>\n",
       "      <td>18:30:00</td>\n",
       "      <td>IN</td>\n",
       "    </tr>\n",
       "    <tr>\n",
       "      <th>3185</th>\n",
       "      <td>90d90a2b-cfa4-4ad3-931e-4551206cb86e</td>\n",
       "      <td>2021-09-01 00:30:07+00:00</td>\n",
       "      <td>2021-09-07 18:30:00+00:00</td>\n",
       "      <td>2021-09-03 21:10:53.966701+00:00</td>\n",
       "      <td>9393307</td>\n",
       "      <td>INNSA</td>\n",
       "      <td>2021-09-03 10:34:45+00:00</td>\n",
       "      <td>18:30:00</td>\n",
       "      <td>IN</td>\n",
       "    </tr>\n",
       "  </tbody>\n",
       "</table>\n",
       "</div>"
      ],
      "text/plain": [
       "                       vessel_live_info_id             timestamp_utc  \\\n",
       "3184  90d90a2b-cfa4-4ad3-931e-4551206cb86e 2021-09-01 00:30:07+00:00   \n",
       "3185  90d90a2b-cfa4-4ad3-931e-4551206cb86e 2021-09-01 00:30:07+00:00   \n",
       "\n",
       "         scheduled_arrival_utc            estimated_arrival_utc      imo  \\\n",
       "3184 2021-09-07 18:30:00+00:00 2021-09-03 20:56:00.328220+00:00  9393307   \n",
       "3185 2021-09-07 18:30:00+00:00 2021-09-03 21:10:53.966701+00:00  9393307   \n",
       "\n",
       "     port_code        actual_arrival_utc scheduled_arrival_utc_time  \\\n",
       "3184     INNSA 2021-09-03 10:34:45+00:00                   18:30:00   \n",
       "3185     INNSA 2021-09-03 10:34:45+00:00                   18:30:00   \n",
       "\n",
       "     port_code_country_initials  \n",
       "3184                         IN  \n",
       "3185                         IN  "
      ]
     },
     "execution_count": 24,
     "metadata": {},
     "output_type": "execute_result"
    }
   ],
   "source": [
    "df.query(\"vessel_live_info_id == '90d90a2b-cfa4-4ad3-931e-4551206cb86e'\")"
   ]
  },
  {
   "cell_type": "code",
   "execution_count": 25,
   "id": "f3c7d167",
   "metadata": {},
   "outputs": [
    {
     "data": {
      "text/html": [
       "<div>\n",
       "<style scoped>\n",
       "    .dataframe tbody tr th:only-of-type {\n",
       "        vertical-align: middle;\n",
       "    }\n",
       "\n",
       "    .dataframe tbody tr th {\n",
       "        vertical-align: top;\n",
       "    }\n",
       "\n",
       "    .dataframe thead th {\n",
       "        text-align: right;\n",
       "    }\n",
       "</style>\n",
       "<table border=\"1\" class=\"dataframe\">\n",
       "  <thead>\n",
       "    <tr style=\"text-align: right;\">\n",
       "      <th></th>\n",
       "      <th>vessel_live_info_id</th>\n",
       "      <th>timestamp_utc</th>\n",
       "      <th>scheduled_arrival_utc</th>\n",
       "      <th>estimated_arrival_utc</th>\n",
       "      <th>imo</th>\n",
       "      <th>port_code</th>\n",
       "      <th>actual_arrival_utc</th>\n",
       "      <th>scheduled_arrival_utc_time</th>\n",
       "      <th>port_code_country_initials</th>\n",
       "    </tr>\n",
       "  </thead>\n",
       "  <tbody>\n",
       "    <tr>\n",
       "      <th>251</th>\n",
       "      <td>240ab714-d353-417f-9844-2c560d95fdfc</td>\n",
       "      <td>2021-07-25 04:12:14+00:00</td>\n",
       "      <td>2021-08-27 21:59:00+00:00</td>\n",
       "      <td>2021-09-03 15:40:53.799115+00:00</td>\n",
       "      <td>9359038</td>\n",
       "      <td>PAPCN</td>\n",
       "      <td>2021-09-01 11:33:00+00:00</td>\n",
       "      <td>21:59:00</td>\n",
       "      <td>PA</td>\n",
       "    </tr>\n",
       "    <tr>\n",
       "      <th>252</th>\n",
       "      <td>240ab714-d353-417f-9844-2c560d95fdfc</td>\n",
       "      <td>2021-07-25 04:12:14+00:00</td>\n",
       "      <td>2021-08-27 21:59:00+00:00</td>\n",
       "      <td>2021-09-03 05:14:45.554391+00:00</td>\n",
       "      <td>9359038</td>\n",
       "      <td>PAPCN</td>\n",
       "      <td>2021-09-01 11:33:00+00:00</td>\n",
       "      <td>21:59:00</td>\n",
       "      <td>PA</td>\n",
       "    </tr>\n",
       "    <tr>\n",
       "      <th>253</th>\n",
       "      <td>240ab714-d353-417f-9844-2c560d95fdfc</td>\n",
       "      <td>2021-07-25 04:12:14+00:00</td>\n",
       "      <td>2021-09-15 12:00:00+00:00</td>\n",
       "      <td>2021-09-19 04:55:52.866378+00:00</td>\n",
       "      <td>9359038</td>\n",
       "      <td>USNYC</td>\n",
       "      <td>2021-09-09 14:05:08+00:00</td>\n",
       "      <td>12:00:00</td>\n",
       "      <td>US</td>\n",
       "    </tr>\n",
       "    <tr>\n",
       "      <th>254</th>\n",
       "      <td>240ab714-d353-417f-9844-2c560d95fdfc</td>\n",
       "      <td>2021-07-25 04:12:14+00:00</td>\n",
       "      <td>2021-09-15 12:00:00+00:00</td>\n",
       "      <td>2021-09-18 22:31:54.259988+00:00</td>\n",
       "      <td>9359038</td>\n",
       "      <td>USNYC</td>\n",
       "      <td>2021-09-09 14:05:08+00:00</td>\n",
       "      <td>12:00:00</td>\n",
       "      <td>US</td>\n",
       "    </tr>\n",
       "  </tbody>\n",
       "</table>\n",
       "</div>"
      ],
      "text/plain": [
       "                      vessel_live_info_id             timestamp_utc  \\\n",
       "251  240ab714-d353-417f-9844-2c560d95fdfc 2021-07-25 04:12:14+00:00   \n",
       "252  240ab714-d353-417f-9844-2c560d95fdfc 2021-07-25 04:12:14+00:00   \n",
       "253  240ab714-d353-417f-9844-2c560d95fdfc 2021-07-25 04:12:14+00:00   \n",
       "254  240ab714-d353-417f-9844-2c560d95fdfc 2021-07-25 04:12:14+00:00   \n",
       "\n",
       "        scheduled_arrival_utc            estimated_arrival_utc      imo  \\\n",
       "251 2021-08-27 21:59:00+00:00 2021-09-03 15:40:53.799115+00:00  9359038   \n",
       "252 2021-08-27 21:59:00+00:00 2021-09-03 05:14:45.554391+00:00  9359038   \n",
       "253 2021-09-15 12:00:00+00:00 2021-09-19 04:55:52.866378+00:00  9359038   \n",
       "254 2021-09-15 12:00:00+00:00 2021-09-18 22:31:54.259988+00:00  9359038   \n",
       "\n",
       "    port_code        actual_arrival_utc scheduled_arrival_utc_time  \\\n",
       "251     PAPCN 2021-09-01 11:33:00+00:00                   21:59:00   \n",
       "252     PAPCN 2021-09-01 11:33:00+00:00                   21:59:00   \n",
       "253     USNYC 2021-09-09 14:05:08+00:00                   12:00:00   \n",
       "254     USNYC 2021-09-09 14:05:08+00:00                   12:00:00   \n",
       "\n",
       "    port_code_country_initials  \n",
       "251                         PA  \n",
       "252                         PA  \n",
       "253                         US  \n",
       "254                         US  "
      ]
     },
     "execution_count": 25,
     "metadata": {},
     "output_type": "execute_result"
    }
   ],
   "source": [
    "df.query(\"vessel_live_info_id == '240ab714-d353-417f-9844-2c560d95fdfc'\")\n",
    "#these duplicates have the same scheduled data but different estimation"
   ]
  },
  {
   "cell_type": "markdown",
   "id": "43548c9a",
   "metadata": {},
   "source": [
    "#### Removing these specific Duplicates"
   ]
  },
  {
   "cell_type": "code",
   "execution_count": 26,
   "id": "7ccd7f55",
   "metadata": {},
   "outputs": [
    {
     "data": {
      "text/html": [
       "<div>\n",
       "<style scoped>\n",
       "    .dataframe tbody tr th:only-of-type {\n",
       "        vertical-align: middle;\n",
       "    }\n",
       "\n",
       "    .dataframe tbody tr th {\n",
       "        vertical-align: top;\n",
       "    }\n",
       "\n",
       "    .dataframe thead th {\n",
       "        text-align: right;\n",
       "    }\n",
       "</style>\n",
       "<table border=\"1\" class=\"dataframe\">\n",
       "  <thead>\n",
       "    <tr style=\"text-align: right;\">\n",
       "      <th></th>\n",
       "      <th>vessel_live_info_id</th>\n",
       "      <th>timestamp_utc</th>\n",
       "      <th>scheduled_arrival_utc</th>\n",
       "      <th>estimated_arrival_utc</th>\n",
       "      <th>imo</th>\n",
       "      <th>port_code</th>\n",
       "      <th>actual_arrival_utc</th>\n",
       "      <th>scheduled_arrival_utc_time</th>\n",
       "      <th>port_code_country_initials</th>\n",
       "    </tr>\n",
       "  </thead>\n",
       "  <tbody>\n",
       "    <tr>\n",
       "      <th>0</th>\n",
       "      <td>4e1582e1-ea33-4977-b84e-886f0095bee4</td>\n",
       "      <td>2021-07-02 02:32:29+00:00</td>\n",
       "      <td>2021-09-05 18:30:00+00:00</td>\n",
       "      <td>2021-08-07 13:50:21.965794+00:00</td>\n",
       "      <td>9393307</td>\n",
       "      <td>INMUN</td>\n",
       "      <td>2021-08-31 08:45:09.540000+00:00</td>\n",
       "      <td>18:30:00</td>\n",
       "      <td>IN</td>\n",
       "    </tr>\n",
       "    <tr>\n",
       "      <th>1</th>\n",
       "      <td>a0b4c72a-a7ec-4888-b513-77c837b0b82d</td>\n",
       "      <td>2021-07-03 03:17:16+00:00</td>\n",
       "      <td>2021-09-05 18:30:00+00:00</td>\n",
       "      <td>2021-08-07 06:24:55.229106+00:00</td>\n",
       "      <td>9393307</td>\n",
       "      <td>INMUN</td>\n",
       "      <td>2021-08-31 08:45:09.540000+00:00</td>\n",
       "      <td>18:30:00</td>\n",
       "      <td>IN</td>\n",
       "    </tr>\n",
       "    <tr>\n",
       "      <th>2</th>\n",
       "      <td>4947dc14-3471-48bc-bee1-7ba82e301182</td>\n",
       "      <td>2021-07-04 02:53:17+00:00</td>\n",
       "      <td>2021-09-05 18:30:00+00:00</td>\n",
       "      <td>2021-08-07 20:52:36.357922+00:00</td>\n",
       "      <td>9393307</td>\n",
       "      <td>INMUN</td>\n",
       "      <td>2021-08-31 08:45:09.540000+00:00</td>\n",
       "      <td>18:30:00</td>\n",
       "      <td>IN</td>\n",
       "    </tr>\n",
       "    <tr>\n",
       "      <th>3</th>\n",
       "      <td>f90f626f-1933-4c46-8749-947c2a246e0b</td>\n",
       "      <td>2021-07-04 23:55:04+00:00</td>\n",
       "      <td>2021-09-05 18:30:00+00:00</td>\n",
       "      <td>2021-08-08 16:25:14.146273+00:00</td>\n",
       "      <td>9393307</td>\n",
       "      <td>INMUN</td>\n",
       "      <td>2021-08-31 08:45:09.540000+00:00</td>\n",
       "      <td>18:30:00</td>\n",
       "      <td>IN</td>\n",
       "    </tr>\n",
       "    <tr>\n",
       "      <th>4</th>\n",
       "      <td>7ff01141-9dab-41ef-b1b7-70abc29df3ea</td>\n",
       "      <td>2021-07-06 00:33:44+00:00</td>\n",
       "      <td>2021-09-05 18:30:00+00:00</td>\n",
       "      <td>2021-08-08 15:46:31.015292+00:00</td>\n",
       "      <td>9393307</td>\n",
       "      <td>INMUN</td>\n",
       "      <td>2021-08-31 08:45:09.540000+00:00</td>\n",
       "      <td>18:30:00</td>\n",
       "      <td>IN</td>\n",
       "    </tr>\n",
       "  </tbody>\n",
       "</table>\n",
       "</div>"
      ],
      "text/plain": [
       "                    vessel_live_info_id             timestamp_utc  \\\n",
       "0  4e1582e1-ea33-4977-b84e-886f0095bee4 2021-07-02 02:32:29+00:00   \n",
       "1  a0b4c72a-a7ec-4888-b513-77c837b0b82d 2021-07-03 03:17:16+00:00   \n",
       "2  4947dc14-3471-48bc-bee1-7ba82e301182 2021-07-04 02:53:17+00:00   \n",
       "3  f90f626f-1933-4c46-8749-947c2a246e0b 2021-07-04 23:55:04+00:00   \n",
       "4  7ff01141-9dab-41ef-b1b7-70abc29df3ea 2021-07-06 00:33:44+00:00   \n",
       "\n",
       "      scheduled_arrival_utc            estimated_arrival_utc      imo  \\\n",
       "0 2021-09-05 18:30:00+00:00 2021-08-07 13:50:21.965794+00:00  9393307   \n",
       "1 2021-09-05 18:30:00+00:00 2021-08-07 06:24:55.229106+00:00  9393307   \n",
       "2 2021-09-05 18:30:00+00:00 2021-08-07 20:52:36.357922+00:00  9393307   \n",
       "3 2021-09-05 18:30:00+00:00 2021-08-08 16:25:14.146273+00:00  9393307   \n",
       "4 2021-09-05 18:30:00+00:00 2021-08-08 15:46:31.015292+00:00  9393307   \n",
       "\n",
       "  port_code               actual_arrival_utc scheduled_arrival_utc_time  \\\n",
       "0     INMUN 2021-08-31 08:45:09.540000+00:00                   18:30:00   \n",
       "1     INMUN 2021-08-31 08:45:09.540000+00:00                   18:30:00   \n",
       "2     INMUN 2021-08-31 08:45:09.540000+00:00                   18:30:00   \n",
       "3     INMUN 2021-08-31 08:45:09.540000+00:00                   18:30:00   \n",
       "4     INMUN 2021-08-31 08:45:09.540000+00:00                   18:30:00   \n",
       "\n",
       "  port_code_country_initials  \n",
       "0                         IN  \n",
       "1                         IN  \n",
       "2                         IN  \n",
       "3                         IN  \n",
       "4                         IN  "
      ]
     },
     "execution_count": 26,
     "metadata": {},
     "output_type": "execute_result"
    }
   ],
   "source": [
    "df = df.loc[~df.duplicated(subset = ['vessel_live_info_id','scheduled_arrival_utc'])].reset_index(drop=True).copy()\n",
    "#removing these 62 duplicates which has also the same port and actual arrival data\n",
    "df.head(5)"
   ]
  },
  {
   "cell_type": "markdown",
   "id": "00a526f9",
   "metadata": {},
   "source": [
    "#### 2.2.3 From the Subset Pair of 'vessel_live_info_id' and 'port_code'"
   ]
  },
  {
   "cell_type": "code",
   "execution_count": 27,
   "id": "4665415a",
   "metadata": {},
   "outputs": [
    {
     "data": {
      "text/plain": [
       "MU    74\n",
       "SG    53\n",
       "NL    48\n",
       "ES     5\n",
       "Name: port_code_country_initials, dtype: int64"
      ]
     },
     "execution_count": 27,
     "metadata": {},
     "output_type": "execute_result"
    }
   ],
   "source": [
    "df.loc[df.duplicated(subset = ['vessel_live_info_id','port_code'])]\\\n",
    ".port_code_country_initials.value_counts()"
   ]
  },
  {
   "cell_type": "code",
   "execution_count": 28,
   "id": "4337cf5c",
   "metadata": {},
   "outputs": [
    {
     "data": {
      "text/plain": [
       "02:00:00    98\n",
       "22:00:00    48\n",
       "12:00:00    29\n",
       "14:00:00     5\n",
       "Name: scheduled_arrival_utc_time, dtype: int64"
      ]
     },
     "execution_count": 28,
     "metadata": {},
     "output_type": "execute_result"
    }
   ],
   "source": [
    "df.loc[df.duplicated(subset = ['vessel_live_info_id','port_code'])]\\\n",
    ".scheduled_arrival_utc_time.value_counts()"
   ]
  },
  {
   "cell_type": "code",
   "execution_count": 29,
   "id": "d2ef27e7",
   "metadata": {},
   "outputs": [],
   "source": [
    "#these are fairly distributed in terms of 'vessel_live_info_id' and'port_code'"
   ]
  },
  {
   "cell_type": "code",
   "execution_count": 30,
   "id": "d0e89165",
   "metadata": {},
   "outputs": [
    {
     "data": {
      "text/plain": [
       "180"
      ]
     },
     "execution_count": 30,
     "metadata": {},
     "output_type": "execute_result"
    }
   ],
   "source": [
    "df.duplicated(subset = ['vessel_live_info_id','port_code']).sum()"
   ]
  },
  {
   "cell_type": "code",
   "execution_count": 31,
   "id": "c221dfd1",
   "metadata": {},
   "outputs": [
    {
     "data": {
      "text/html": [
       "<div>\n",
       "<style scoped>\n",
       "    .dataframe tbody tr th:only-of-type {\n",
       "        vertical-align: middle;\n",
       "    }\n",
       "\n",
       "    .dataframe tbody tr th {\n",
       "        vertical-align: top;\n",
       "    }\n",
       "\n",
       "    .dataframe thead th {\n",
       "        text-align: right;\n",
       "    }\n",
       "</style>\n",
       "<table border=\"1\" class=\"dataframe\">\n",
       "  <thead>\n",
       "    <tr style=\"text-align: right;\">\n",
       "      <th></th>\n",
       "      <th>vessel_live_info_id</th>\n",
       "      <th>timestamp_utc</th>\n",
       "      <th>scheduled_arrival_utc</th>\n",
       "      <th>estimated_arrival_utc</th>\n",
       "      <th>imo</th>\n",
       "      <th>port_code</th>\n",
       "      <th>actual_arrival_utc</th>\n",
       "      <th>scheduled_arrival_utc_time</th>\n",
       "      <th>port_code_country_initials</th>\n",
       "    </tr>\n",
       "  </thead>\n",
       "  <tbody>\n",
       "    <tr>\n",
       "      <th>5995</th>\n",
       "      <td>f09815d2-361d-4289-bd06-4c5edbfe2268</td>\n",
       "      <td>2021-09-19 02:31:09+00:00</td>\n",
       "      <td>2021-09-20 22:00:00+00:00</td>\n",
       "      <td>2021-09-27 20:31:51.607990+00:00</td>\n",
       "      <td>9461398</td>\n",
       "      <td>NLRTM</td>\n",
       "      <td>2021-09-20 23:40:17.560000+00:00</td>\n",
       "      <td>22:00:00</td>\n",
       "      <td>NL</td>\n",
       "    </tr>\n",
       "    <tr>\n",
       "      <th>6024</th>\n",
       "      <td>5b24d831-d57e-44d1-b62b-93ffc674751f</td>\n",
       "      <td>2021-09-19 12:00:08+00:00</td>\n",
       "      <td>2021-09-20 22:00:00+00:00</td>\n",
       "      <td>2021-09-27 18:17:58.663519+00:00</td>\n",
       "      <td>9461398</td>\n",
       "      <td>NLRTM</td>\n",
       "      <td>2021-09-20 23:40:17.560000+00:00</td>\n",
       "      <td>22:00:00</td>\n",
       "      <td>NL</td>\n",
       "    </tr>\n",
       "    <tr>\n",
       "      <th>6049</th>\n",
       "      <td>5c16ff55-450f-4d69-b567-6815e35160cf</td>\n",
       "      <td>2021-09-20 09:31:59+00:00</td>\n",
       "      <td>2021-09-20 22:00:00+00:00</td>\n",
       "      <td>2021-09-28 18:43:19.292243+00:00</td>\n",
       "      <td>9461398</td>\n",
       "      <td>NLRTM</td>\n",
       "      <td>2021-09-20 23:40:17.560000+00:00</td>\n",
       "      <td>22:00:00</td>\n",
       "      <td>NL</td>\n",
       "    </tr>\n",
       "    <tr>\n",
       "      <th>6075</th>\n",
       "      <td>5bfdd5bd-572a-4fcc-a875-26bb24205add</td>\n",
       "      <td>2021-09-20 15:37:59+00:00</td>\n",
       "      <td>2021-09-20 22:00:00+00:00</td>\n",
       "      <td>2021-09-29 05:28:19.745649+00:00</td>\n",
       "      <td>9461398</td>\n",
       "      <td>NLRTM</td>\n",
       "      <td>2021-09-20 23:40:17.560000+00:00</td>\n",
       "      <td>22:00:00</td>\n",
       "      <td>NL</td>\n",
       "    </tr>\n",
       "    <tr>\n",
       "      <th>6095</th>\n",
       "      <td>a38f3a22-e55f-4b14-8df8-846043314330</td>\n",
       "      <td>2021-09-20 21:45:39+00:00</td>\n",
       "      <td>2021-09-20 22:00:00+00:00</td>\n",
       "      <td>2021-09-28 22:49:38.074557+00:00</td>\n",
       "      <td>9461398</td>\n",
       "      <td>NLRTM</td>\n",
       "      <td>2021-09-20 23:40:17.560000+00:00</td>\n",
       "      <td>22:00:00</td>\n",
       "      <td>NL</td>\n",
       "    </tr>\n",
       "  </tbody>\n",
       "</table>\n",
       "</div>"
      ],
      "text/plain": [
       "                       vessel_live_info_id             timestamp_utc  \\\n",
       "5995  f09815d2-361d-4289-bd06-4c5edbfe2268 2021-09-19 02:31:09+00:00   \n",
       "6024  5b24d831-d57e-44d1-b62b-93ffc674751f 2021-09-19 12:00:08+00:00   \n",
       "6049  5c16ff55-450f-4d69-b567-6815e35160cf 2021-09-20 09:31:59+00:00   \n",
       "6075  5bfdd5bd-572a-4fcc-a875-26bb24205add 2021-09-20 15:37:59+00:00   \n",
       "6095  a38f3a22-e55f-4b14-8df8-846043314330 2021-09-20 21:45:39+00:00   \n",
       "\n",
       "         scheduled_arrival_utc            estimated_arrival_utc      imo  \\\n",
       "5995 2021-09-20 22:00:00+00:00 2021-09-27 20:31:51.607990+00:00  9461398   \n",
       "6024 2021-09-20 22:00:00+00:00 2021-09-27 18:17:58.663519+00:00  9461398   \n",
       "6049 2021-09-20 22:00:00+00:00 2021-09-28 18:43:19.292243+00:00  9461398   \n",
       "6075 2021-09-20 22:00:00+00:00 2021-09-29 05:28:19.745649+00:00  9461398   \n",
       "6095 2021-09-20 22:00:00+00:00 2021-09-28 22:49:38.074557+00:00  9461398   \n",
       "\n",
       "     port_code               actual_arrival_utc scheduled_arrival_utc_time  \\\n",
       "5995     NLRTM 2021-09-20 23:40:17.560000+00:00                   22:00:00   \n",
       "6024     NLRTM 2021-09-20 23:40:17.560000+00:00                   22:00:00   \n",
       "6049     NLRTM 2021-09-20 23:40:17.560000+00:00                   22:00:00   \n",
       "6075     NLRTM 2021-09-20 23:40:17.560000+00:00                   22:00:00   \n",
       "6095     NLRTM 2021-09-20 23:40:17.560000+00:00                   22:00:00   \n",
       "\n",
       "     port_code_country_initials  \n",
       "5995                         NL  \n",
       "6024                         NL  \n",
       "6049                         NL  \n",
       "6075                         NL  \n",
       "6095                         NL  "
      ]
     },
     "execution_count": 31,
     "metadata": {},
     "output_type": "execute_result"
    }
   ],
   "source": [
    "df.loc[df.duplicated(subset = ['vessel_live_info_id','port_code'])].tail(5)"
   ]
  },
  {
   "cell_type": "code",
   "execution_count": 32,
   "id": "5af34532",
   "metadata": {},
   "outputs": [
    {
     "data": {
      "text/html": [
       "<div>\n",
       "<style scoped>\n",
       "    .dataframe tbody tr th:only-of-type {\n",
       "        vertical-align: middle;\n",
       "    }\n",
       "\n",
       "    .dataframe tbody tr th {\n",
       "        vertical-align: top;\n",
       "    }\n",
       "\n",
       "    .dataframe thead th {\n",
       "        text-align: right;\n",
       "    }\n",
       "</style>\n",
       "<table border=\"1\" class=\"dataframe\">\n",
       "  <thead>\n",
       "    <tr style=\"text-align: right;\">\n",
       "      <th></th>\n",
       "      <th>vessel_live_info_id</th>\n",
       "      <th>timestamp_utc</th>\n",
       "      <th>scheduled_arrival_utc</th>\n",
       "      <th>estimated_arrival_utc</th>\n",
       "      <th>imo</th>\n",
       "      <th>port_code</th>\n",
       "      <th>actual_arrival_utc</th>\n",
       "      <th>scheduled_arrival_utc_time</th>\n",
       "      <th>port_code_country_initials</th>\n",
       "    </tr>\n",
       "  </thead>\n",
       "  <tbody>\n",
       "    <tr>\n",
       "      <th>681</th>\n",
       "      <td>93451975-1133-4936-ae1a-53ea6fa446a5</td>\n",
       "      <td>2021-08-06 15:54:14+00:00</td>\n",
       "      <td>2021-08-28 12:00:00+00:00</td>\n",
       "      <td>2021-08-29 04:33:13.755346+00:00</td>\n",
       "      <td>9316373</td>\n",
       "      <td>SGSIN</td>\n",
       "      <td>2021-09-01 17:32:37+00:00</td>\n",
       "      <td>12:00:00</td>\n",
       "      <td>SG</td>\n",
       "    </tr>\n",
       "    <tr>\n",
       "      <th>682</th>\n",
       "      <td>93451975-1133-4936-ae1a-53ea6fa446a5</td>\n",
       "      <td>2021-08-06 15:54:14+00:00</td>\n",
       "      <td>2021-09-02 03:00:00+00:00</td>\n",
       "      <td>2021-09-01 19:12:58.575535+00:00</td>\n",
       "      <td>9316373</td>\n",
       "      <td>IDJKT</td>\n",
       "      <td>2021-09-05 05:30:28+00:00</td>\n",
       "      <td>03:00:00</td>\n",
       "      <td>ID</td>\n",
       "    </tr>\n",
       "    <tr>\n",
       "      <th>683</th>\n",
       "      <td>93451975-1133-4936-ae1a-53ea6fa446a5</td>\n",
       "      <td>2021-08-06 15:54:14+00:00</td>\n",
       "      <td>2021-09-18 02:00:00+00:00</td>\n",
       "      <td>2021-09-18 03:58:05.521549+00:00</td>\n",
       "      <td>9316373</td>\n",
       "      <td>SGSIN</td>\n",
       "      <td>2021-09-01 17:30:07+00:00</td>\n",
       "      <td>02:00:00</td>\n",
       "      <td>SG</td>\n",
       "    </tr>\n",
       "  </tbody>\n",
       "</table>\n",
       "</div>"
      ],
      "text/plain": [
       "                      vessel_live_info_id             timestamp_utc  \\\n",
       "681  93451975-1133-4936-ae1a-53ea6fa446a5 2021-08-06 15:54:14+00:00   \n",
       "682  93451975-1133-4936-ae1a-53ea6fa446a5 2021-08-06 15:54:14+00:00   \n",
       "683  93451975-1133-4936-ae1a-53ea6fa446a5 2021-08-06 15:54:14+00:00   \n",
       "\n",
       "        scheduled_arrival_utc            estimated_arrival_utc      imo  \\\n",
       "681 2021-08-28 12:00:00+00:00 2021-08-29 04:33:13.755346+00:00  9316373   \n",
       "682 2021-09-02 03:00:00+00:00 2021-09-01 19:12:58.575535+00:00  9316373   \n",
       "683 2021-09-18 02:00:00+00:00 2021-09-18 03:58:05.521549+00:00  9316373   \n",
       "\n",
       "    port_code        actual_arrival_utc scheduled_arrival_utc_time  \\\n",
       "681     SGSIN 2021-09-01 17:32:37+00:00                   12:00:00   \n",
       "682     IDJKT 2021-09-05 05:30:28+00:00                   03:00:00   \n",
       "683     SGSIN 2021-09-01 17:30:07+00:00                   02:00:00   \n",
       "\n",
       "    port_code_country_initials  \n",
       "681                         SG  \n",
       "682                         ID  \n",
       "683                         SG  "
      ]
     },
     "execution_count": 32,
     "metadata": {},
     "output_type": "execute_result"
    }
   ],
   "source": [
    "df.query(\"vessel_live_info_id == '93451975-1133-4936-ae1a-53ea6fa446a5'\")#Looking into specific instance"
   ]
  },
  {
   "cell_type": "markdown",
   "id": "82826c05",
   "metadata": {},
   "source": [
    "#### Same Port and Same Actual Arrival Datetime for the Same ID makes it an Error"
   ]
  },
  {
   "cell_type": "code",
   "execution_count": 33,
   "id": "b01053a3",
   "metadata": {},
   "outputs": [
    {
     "data": {
      "text/html": [
       "<div>\n",
       "<style scoped>\n",
       "    .dataframe tbody tr th:only-of-type {\n",
       "        vertical-align: middle;\n",
       "    }\n",
       "\n",
       "    .dataframe tbody tr th {\n",
       "        vertical-align: top;\n",
       "    }\n",
       "\n",
       "    .dataframe thead th {\n",
       "        text-align: right;\n",
       "    }\n",
       "</style>\n",
       "<table border=\"1\" class=\"dataframe\">\n",
       "  <thead>\n",
       "    <tr style=\"text-align: right;\">\n",
       "      <th></th>\n",
       "      <th>vessel_live_info_id</th>\n",
       "      <th>timestamp_utc</th>\n",
       "      <th>scheduled_arrival_utc</th>\n",
       "      <th>estimated_arrival_utc</th>\n",
       "      <th>imo</th>\n",
       "      <th>port_code</th>\n",
       "      <th>actual_arrival_utc</th>\n",
       "      <th>scheduled_arrival_utc_time</th>\n",
       "      <th>port_code_country_initials</th>\n",
       "    </tr>\n",
       "  </thead>\n",
       "  <tbody>\n",
       "    <tr>\n",
       "      <th>974</th>\n",
       "      <td>e9cc66be-7973-4471-b9d4-2abbce88689d</td>\n",
       "      <td>2021-08-09 21:25:13+00:00</td>\n",
       "      <td>2021-08-22 10:00:00+00:00</td>\n",
       "      <td>2021-08-29 22:59:14.824200+00:00</td>\n",
       "      <td>9305714</td>\n",
       "      <td>MUPLU</td>\n",
       "      <td>2021-09-03 07:05:03+00:00</td>\n",
       "      <td>10:00:00</td>\n",
       "      <td>MU</td>\n",
       "    </tr>\n",
       "    <tr>\n",
       "      <th>975</th>\n",
       "      <td>e9cc66be-7973-4471-b9d4-2abbce88689d</td>\n",
       "      <td>2021-08-09 21:25:13+00:00</td>\n",
       "      <td>2021-08-31 11:00:00+00:00</td>\n",
       "      <td>2021-09-06 01:11:41.717458+00:00</td>\n",
       "      <td>9305714</td>\n",
       "      <td>ZAZBA</td>\n",
       "      <td>2021-09-10 14:50:01+00:00</td>\n",
       "      <td>11:00:00</td>\n",
       "      <td>ZA</td>\n",
       "    </tr>\n",
       "    <tr>\n",
       "      <th>976</th>\n",
       "      <td>e9cc66be-7973-4471-b9d4-2abbce88689d</td>\n",
       "      <td>2021-08-09 21:25:13+00:00</td>\n",
       "      <td>2021-09-09 02:00:00+00:00</td>\n",
       "      <td>2021-09-13 21:18:29.053316+00:00</td>\n",
       "      <td>9305714</td>\n",
       "      <td>MUPLU</td>\n",
       "      <td>2021-09-03 07:05:03+00:00</td>\n",
       "      <td>02:00:00</td>\n",
       "      <td>MU</td>\n",
       "    </tr>\n",
       "  </tbody>\n",
       "</table>\n",
       "</div>"
      ],
      "text/plain": [
       "                      vessel_live_info_id             timestamp_utc  \\\n",
       "974  e9cc66be-7973-4471-b9d4-2abbce88689d 2021-08-09 21:25:13+00:00   \n",
       "975  e9cc66be-7973-4471-b9d4-2abbce88689d 2021-08-09 21:25:13+00:00   \n",
       "976  e9cc66be-7973-4471-b9d4-2abbce88689d 2021-08-09 21:25:13+00:00   \n",
       "\n",
       "        scheduled_arrival_utc            estimated_arrival_utc      imo  \\\n",
       "974 2021-08-22 10:00:00+00:00 2021-08-29 22:59:14.824200+00:00  9305714   \n",
       "975 2021-08-31 11:00:00+00:00 2021-09-06 01:11:41.717458+00:00  9305714   \n",
       "976 2021-09-09 02:00:00+00:00 2021-09-13 21:18:29.053316+00:00  9305714   \n",
       "\n",
       "    port_code        actual_arrival_utc scheduled_arrival_utc_time  \\\n",
       "974     MUPLU 2021-09-03 07:05:03+00:00                   10:00:00   \n",
       "975     ZAZBA 2021-09-10 14:50:01+00:00                   11:00:00   \n",
       "976     MUPLU 2021-09-03 07:05:03+00:00                   02:00:00   \n",
       "\n",
       "    port_code_country_initials  \n",
       "974                         MU  \n",
       "975                         ZA  \n",
       "976                         MU  "
      ]
     },
     "execution_count": 33,
     "metadata": {},
     "output_type": "execute_result"
    }
   ],
   "source": [
    "df.query(\"vessel_live_info_id == 'e9cc66be-7973-4471-b9d4-2abbce88689d'\") #same instance as above"
   ]
  },
  {
   "cell_type": "code",
   "execution_count": 34,
   "id": "eee2333f",
   "metadata": {},
   "outputs": [
    {
     "data": {
      "text/html": [
       "<div>\n",
       "<style scoped>\n",
       "    .dataframe tbody tr th:only-of-type {\n",
       "        vertical-align: middle;\n",
       "    }\n",
       "\n",
       "    .dataframe tbody tr th {\n",
       "        vertical-align: top;\n",
       "    }\n",
       "\n",
       "    .dataframe thead th {\n",
       "        text-align: right;\n",
       "    }\n",
       "</style>\n",
       "<table border=\"1\" class=\"dataframe\">\n",
       "  <thead>\n",
       "    <tr style=\"text-align: right;\">\n",
       "      <th></th>\n",
       "      <th>vessel_live_info_id</th>\n",
       "      <th>timestamp_utc</th>\n",
       "      <th>scheduled_arrival_utc</th>\n",
       "      <th>estimated_arrival_utc</th>\n",
       "      <th>imo</th>\n",
       "      <th>port_code</th>\n",
       "      <th>actual_arrival_utc</th>\n",
       "      <th>scheduled_arrival_utc_time</th>\n",
       "      <th>port_code_country_initials</th>\n",
       "    </tr>\n",
       "  </thead>\n",
       "  <tbody>\n",
       "    <tr>\n",
       "      <th>5369</th>\n",
       "      <td>aed7117d-b164-4bcb-973d-313746dee423</td>\n",
       "      <td>2021-09-12 00:50:12+00:00</td>\n",
       "      <td>2021-09-14 22:00:00+00:00</td>\n",
       "      <td>2021-09-18 19:39:46.767874+00:00</td>\n",
       "      <td>9461398</td>\n",
       "      <td>NLRTM</td>\n",
       "      <td>2021-09-20 23:40:17.560000+00:00</td>\n",
       "      <td>22:00:00</td>\n",
       "      <td>NL</td>\n",
       "    </tr>\n",
       "    <tr>\n",
       "      <th>5370</th>\n",
       "      <td>aed7117d-b164-4bcb-973d-313746dee423</td>\n",
       "      <td>2021-09-12 00:50:12+00:00</td>\n",
       "      <td>2021-09-16 15:00:00+00:00</td>\n",
       "      <td>2021-09-21 06:10:15.138815+00:00</td>\n",
       "      <td>9461398</td>\n",
       "      <td>DEHAM</td>\n",
       "      <td>2021-09-23 04:36:14+00:00</td>\n",
       "      <td>15:00:00</td>\n",
       "      <td>DE</td>\n",
       "    </tr>\n",
       "    <tr>\n",
       "      <th>5371</th>\n",
       "      <td>aed7117d-b164-4bcb-973d-313746dee423</td>\n",
       "      <td>2021-09-12 00:50:12+00:00</td>\n",
       "      <td>2021-09-13 23:00:00+00:00</td>\n",
       "      <td>2021-09-16 09:50:22.444768+00:00</td>\n",
       "      <td>9461398</td>\n",
       "      <td>GBFXT</td>\n",
       "      <td>2021-09-16 15:35:38.320000+00:00</td>\n",
       "      <td>23:00:00</td>\n",
       "      <td>GB</td>\n",
       "    </tr>\n",
       "    <tr>\n",
       "      <th>5373</th>\n",
       "      <td>aed7117d-b164-4bcb-973d-313746dee423</td>\n",
       "      <td>2021-09-12 00:50:12+00:00</td>\n",
       "      <td>2021-09-20 22:00:00+00:00</td>\n",
       "      <td>2021-09-26 10:09:13.667024+00:00</td>\n",
       "      <td>9461398</td>\n",
       "      <td>NLRTM</td>\n",
       "      <td>2021-09-20 23:40:17.560000+00:00</td>\n",
       "      <td>22:00:00</td>\n",
       "      <td>NL</td>\n",
       "    </tr>\n",
       "  </tbody>\n",
       "</table>\n",
       "</div>"
      ],
      "text/plain": [
       "                       vessel_live_info_id             timestamp_utc  \\\n",
       "5369  aed7117d-b164-4bcb-973d-313746dee423 2021-09-12 00:50:12+00:00   \n",
       "5370  aed7117d-b164-4bcb-973d-313746dee423 2021-09-12 00:50:12+00:00   \n",
       "5371  aed7117d-b164-4bcb-973d-313746dee423 2021-09-12 00:50:12+00:00   \n",
       "5373  aed7117d-b164-4bcb-973d-313746dee423 2021-09-12 00:50:12+00:00   \n",
       "\n",
       "         scheduled_arrival_utc            estimated_arrival_utc      imo  \\\n",
       "5369 2021-09-14 22:00:00+00:00 2021-09-18 19:39:46.767874+00:00  9461398   \n",
       "5370 2021-09-16 15:00:00+00:00 2021-09-21 06:10:15.138815+00:00  9461398   \n",
       "5371 2021-09-13 23:00:00+00:00 2021-09-16 09:50:22.444768+00:00  9461398   \n",
       "5373 2021-09-20 22:00:00+00:00 2021-09-26 10:09:13.667024+00:00  9461398   \n",
       "\n",
       "     port_code               actual_arrival_utc scheduled_arrival_utc_time  \\\n",
       "5369     NLRTM 2021-09-20 23:40:17.560000+00:00                   22:00:00   \n",
       "5370     DEHAM        2021-09-23 04:36:14+00:00                   15:00:00   \n",
       "5371     GBFXT 2021-09-16 15:35:38.320000+00:00                   23:00:00   \n",
       "5373     NLRTM 2021-09-20 23:40:17.560000+00:00                   22:00:00   \n",
       "\n",
       "     port_code_country_initials  \n",
       "5369                         NL  \n",
       "5370                         DE  \n",
       "5371                         GB  \n",
       "5373                         NL  "
      ]
     },
     "execution_count": 34,
     "metadata": {},
     "output_type": "execute_result"
    }
   ],
   "source": [
    "df.query(\"vessel_live_info_id == 'aed7117d-b164-4bcb-973d-313746dee423'\")"
   ]
  },
  {
   "cell_type": "markdown",
   "id": "cc42226e",
   "metadata": {},
   "source": [
    "#### Removing these specific Duplicates"
   ]
  },
  {
   "cell_type": "code",
   "execution_count": 35,
   "id": "64b7bd7a",
   "metadata": {},
   "outputs": [
    {
     "data": {
      "text/html": [
       "<div>\n",
       "<style scoped>\n",
       "    .dataframe tbody tr th:only-of-type {\n",
       "        vertical-align: middle;\n",
       "    }\n",
       "\n",
       "    .dataframe tbody tr th {\n",
       "        vertical-align: top;\n",
       "    }\n",
       "\n",
       "    .dataframe thead th {\n",
       "        text-align: right;\n",
       "    }\n",
       "</style>\n",
       "<table border=\"1\" class=\"dataframe\">\n",
       "  <thead>\n",
       "    <tr style=\"text-align: right;\">\n",
       "      <th></th>\n",
       "      <th>vessel_live_info_id</th>\n",
       "      <th>timestamp_utc</th>\n",
       "      <th>scheduled_arrival_utc</th>\n",
       "      <th>estimated_arrival_utc</th>\n",
       "      <th>imo</th>\n",
       "      <th>port_code</th>\n",
       "      <th>actual_arrival_utc</th>\n",
       "      <th>scheduled_arrival_utc_time</th>\n",
       "      <th>port_code_country_initials</th>\n",
       "    </tr>\n",
       "  </thead>\n",
       "  <tbody>\n",
       "    <tr>\n",
       "      <th>0</th>\n",
       "      <td>4e1582e1-ea33-4977-b84e-886f0095bee4</td>\n",
       "      <td>2021-07-02 02:32:29+00:00</td>\n",
       "      <td>2021-09-05 18:30:00+00:00</td>\n",
       "      <td>2021-08-07 13:50:21.965794+00:00</td>\n",
       "      <td>9393307</td>\n",
       "      <td>INMUN</td>\n",
       "      <td>2021-08-31 08:45:09.540000+00:00</td>\n",
       "      <td>18:30:00</td>\n",
       "      <td>IN</td>\n",
       "    </tr>\n",
       "    <tr>\n",
       "      <th>1</th>\n",
       "      <td>a0b4c72a-a7ec-4888-b513-77c837b0b82d</td>\n",
       "      <td>2021-07-03 03:17:16+00:00</td>\n",
       "      <td>2021-09-05 18:30:00+00:00</td>\n",
       "      <td>2021-08-07 06:24:55.229106+00:00</td>\n",
       "      <td>9393307</td>\n",
       "      <td>INMUN</td>\n",
       "      <td>2021-08-31 08:45:09.540000+00:00</td>\n",
       "      <td>18:30:00</td>\n",
       "      <td>IN</td>\n",
       "    </tr>\n",
       "    <tr>\n",
       "      <th>2</th>\n",
       "      <td>4947dc14-3471-48bc-bee1-7ba82e301182</td>\n",
       "      <td>2021-07-04 02:53:17+00:00</td>\n",
       "      <td>2021-09-05 18:30:00+00:00</td>\n",
       "      <td>2021-08-07 20:52:36.357922+00:00</td>\n",
       "      <td>9393307</td>\n",
       "      <td>INMUN</td>\n",
       "      <td>2021-08-31 08:45:09.540000+00:00</td>\n",
       "      <td>18:30:00</td>\n",
       "      <td>IN</td>\n",
       "    </tr>\n",
       "    <tr>\n",
       "      <th>3</th>\n",
       "      <td>f90f626f-1933-4c46-8749-947c2a246e0b</td>\n",
       "      <td>2021-07-04 23:55:04+00:00</td>\n",
       "      <td>2021-09-05 18:30:00+00:00</td>\n",
       "      <td>2021-08-08 16:25:14.146273+00:00</td>\n",
       "      <td>9393307</td>\n",
       "      <td>INMUN</td>\n",
       "      <td>2021-08-31 08:45:09.540000+00:00</td>\n",
       "      <td>18:30:00</td>\n",
       "      <td>IN</td>\n",
       "    </tr>\n",
       "    <tr>\n",
       "      <th>4</th>\n",
       "      <td>7ff01141-9dab-41ef-b1b7-70abc29df3ea</td>\n",
       "      <td>2021-07-06 00:33:44+00:00</td>\n",
       "      <td>2021-09-05 18:30:00+00:00</td>\n",
       "      <td>2021-08-08 15:46:31.015292+00:00</td>\n",
       "      <td>9393307</td>\n",
       "      <td>INMUN</td>\n",
       "      <td>2021-08-31 08:45:09.540000+00:00</td>\n",
       "      <td>18:30:00</td>\n",
       "      <td>IN</td>\n",
       "    </tr>\n",
       "  </tbody>\n",
       "</table>\n",
       "</div>"
      ],
      "text/plain": [
       "                    vessel_live_info_id             timestamp_utc  \\\n",
       "0  4e1582e1-ea33-4977-b84e-886f0095bee4 2021-07-02 02:32:29+00:00   \n",
       "1  a0b4c72a-a7ec-4888-b513-77c837b0b82d 2021-07-03 03:17:16+00:00   \n",
       "2  4947dc14-3471-48bc-bee1-7ba82e301182 2021-07-04 02:53:17+00:00   \n",
       "3  f90f626f-1933-4c46-8749-947c2a246e0b 2021-07-04 23:55:04+00:00   \n",
       "4  7ff01141-9dab-41ef-b1b7-70abc29df3ea 2021-07-06 00:33:44+00:00   \n",
       "\n",
       "      scheduled_arrival_utc            estimated_arrival_utc      imo  \\\n",
       "0 2021-09-05 18:30:00+00:00 2021-08-07 13:50:21.965794+00:00  9393307   \n",
       "1 2021-09-05 18:30:00+00:00 2021-08-07 06:24:55.229106+00:00  9393307   \n",
       "2 2021-09-05 18:30:00+00:00 2021-08-07 20:52:36.357922+00:00  9393307   \n",
       "3 2021-09-05 18:30:00+00:00 2021-08-08 16:25:14.146273+00:00  9393307   \n",
       "4 2021-09-05 18:30:00+00:00 2021-08-08 15:46:31.015292+00:00  9393307   \n",
       "\n",
       "  port_code               actual_arrival_utc scheduled_arrival_utc_time  \\\n",
       "0     INMUN 2021-08-31 08:45:09.540000+00:00                   18:30:00   \n",
       "1     INMUN 2021-08-31 08:45:09.540000+00:00                   18:30:00   \n",
       "2     INMUN 2021-08-31 08:45:09.540000+00:00                   18:30:00   \n",
       "3     INMUN 2021-08-31 08:45:09.540000+00:00                   18:30:00   \n",
       "4     INMUN 2021-08-31 08:45:09.540000+00:00                   18:30:00   \n",
       "\n",
       "  port_code_country_initials  \n",
       "0                         IN  \n",
       "1                         IN  \n",
       "2                         IN  \n",
       "3                         IN  \n",
       "4                         IN  "
      ]
     },
     "execution_count": 35,
     "metadata": {},
     "output_type": "execute_result"
    }
   ],
   "source": [
    "df = df.loc[~df.duplicated(subset = ['vessel_live_info_id','port_code'],keep ='last')].reset_index(drop=True).copy()\n",
    "#removing these specific duplicates with same 'actual_arrival_utc','port_code' and 'vessel_live_info_id' since these are duplicates\n",
    "df.head(5)"
   ]
  },
  {
   "cell_type": "markdown",
   "id": "06c2dc8c",
   "metadata": {},
   "source": [
    "#### Dropping the First instance and keeping the Latest occurrence assuming it is being the correct data"
   ]
  },
  {
   "cell_type": "code",
   "execution_count": 36,
   "id": "02ccb034",
   "metadata": {},
   "outputs": [
    {
     "data": {
      "text/html": [
       "<div>\n",
       "<style scoped>\n",
       "    .dataframe tbody tr th:only-of-type {\n",
       "        vertical-align: middle;\n",
       "    }\n",
       "\n",
       "    .dataframe tbody tr th {\n",
       "        vertical-align: top;\n",
       "    }\n",
       "\n",
       "    .dataframe thead th {\n",
       "        text-align: right;\n",
       "    }\n",
       "</style>\n",
       "<table border=\"1\" class=\"dataframe\">\n",
       "  <thead>\n",
       "    <tr style=\"text-align: right;\">\n",
       "      <th></th>\n",
       "      <th>vessel_live_info_id</th>\n",
       "      <th>timestamp_utc</th>\n",
       "      <th>scheduled_arrival_utc</th>\n",
       "      <th>estimated_arrival_utc</th>\n",
       "      <th>imo</th>\n",
       "      <th>port_code</th>\n",
       "      <th>actual_arrival_utc</th>\n",
       "      <th>scheduled_arrival_utc_time</th>\n",
       "      <th>port_code_country_initials</th>\n",
       "    </tr>\n",
       "  </thead>\n",
       "  <tbody>\n",
       "    <tr>\n",
       "      <th>5209</th>\n",
       "      <td>aed7117d-b164-4bcb-973d-313746dee423</td>\n",
       "      <td>2021-09-12 00:50:12+00:00</td>\n",
       "      <td>2021-09-16 15:00:00+00:00</td>\n",
       "      <td>2021-09-21 06:10:15.138815+00:00</td>\n",
       "      <td>9461398</td>\n",
       "      <td>DEHAM</td>\n",
       "      <td>2021-09-23 04:36:14+00:00</td>\n",
       "      <td>15:00:00</td>\n",
       "      <td>DE</td>\n",
       "    </tr>\n",
       "    <tr>\n",
       "      <th>5210</th>\n",
       "      <td>aed7117d-b164-4bcb-973d-313746dee423</td>\n",
       "      <td>2021-09-12 00:50:12+00:00</td>\n",
       "      <td>2021-09-13 23:00:00+00:00</td>\n",
       "      <td>2021-09-16 09:50:22.444768+00:00</td>\n",
       "      <td>9461398</td>\n",
       "      <td>GBFXT</td>\n",
       "      <td>2021-09-16 15:35:38.320000+00:00</td>\n",
       "      <td>23:00:00</td>\n",
       "      <td>GB</td>\n",
       "    </tr>\n",
       "    <tr>\n",
       "      <th>5212</th>\n",
       "      <td>aed7117d-b164-4bcb-973d-313746dee423</td>\n",
       "      <td>2021-09-12 00:50:12+00:00</td>\n",
       "      <td>2021-09-20 22:00:00+00:00</td>\n",
       "      <td>2021-09-26 10:09:13.667024+00:00</td>\n",
       "      <td>9461398</td>\n",
       "      <td>NLRTM</td>\n",
       "      <td>2021-09-20 23:40:17.560000+00:00</td>\n",
       "      <td>22:00:00</td>\n",
       "      <td>NL</td>\n",
       "    </tr>\n",
       "  </tbody>\n",
       "</table>\n",
       "</div>"
      ],
      "text/plain": [
       "                       vessel_live_info_id             timestamp_utc  \\\n",
       "5209  aed7117d-b164-4bcb-973d-313746dee423 2021-09-12 00:50:12+00:00   \n",
       "5210  aed7117d-b164-4bcb-973d-313746dee423 2021-09-12 00:50:12+00:00   \n",
       "5212  aed7117d-b164-4bcb-973d-313746dee423 2021-09-12 00:50:12+00:00   \n",
       "\n",
       "         scheduled_arrival_utc            estimated_arrival_utc      imo  \\\n",
       "5209 2021-09-16 15:00:00+00:00 2021-09-21 06:10:15.138815+00:00  9461398   \n",
       "5210 2021-09-13 23:00:00+00:00 2021-09-16 09:50:22.444768+00:00  9461398   \n",
       "5212 2021-09-20 22:00:00+00:00 2021-09-26 10:09:13.667024+00:00  9461398   \n",
       "\n",
       "     port_code               actual_arrival_utc scheduled_arrival_utc_time  \\\n",
       "5209     DEHAM        2021-09-23 04:36:14+00:00                   15:00:00   \n",
       "5210     GBFXT 2021-09-16 15:35:38.320000+00:00                   23:00:00   \n",
       "5212     NLRTM 2021-09-20 23:40:17.560000+00:00                   22:00:00   \n",
       "\n",
       "     port_code_country_initials  \n",
       "5209                         DE  \n",
       "5210                         GB  \n",
       "5212                         NL  "
      ]
     },
     "execution_count": 36,
     "metadata": {},
     "output_type": "execute_result"
    }
   ],
   "source": [
    "df.query(\"vessel_live_info_id == 'aed7117d-b164-4bcb-973d-313746dee423'\")"
   ]
  },
  {
   "cell_type": "code",
   "execution_count": 37,
   "id": "1e800ef2",
   "metadata": {},
   "outputs": [
    {
     "data": {
      "text/plain": [
       "0"
      ]
     },
     "execution_count": 37,
     "metadata": {},
     "output_type": "execute_result"
    }
   ],
   "source": [
    "#checking other pairs\n",
    "df.duplicated(subset = ['vessel_live_info_id','estimated_arrival_utc']).sum()"
   ]
  },
  {
   "cell_type": "code",
   "execution_count": 38,
   "id": "2c559690",
   "metadata": {},
   "outputs": [],
   "source": [
    "#Dropping Temporary Columns\n",
    "df = df.drop(['scheduled_arrival_utc_time'], axis=1)\n",
    "df = df.drop(['port_code_country_initials'], axis=1)\n"
   ]
  },
  {
   "cell_type": "markdown",
   "id": "79e67c81",
   "metadata": {},
   "source": [
    "### Wrong Scheduled Data has been the biggest reason for wrong and multiple Predictions for the same Freight.\n",
    "### Prediction results are more accurate after data cleaning and processing and still accepting the correct data."
   ]
  },
  {
   "cell_type": "markdown",
   "id": "ebe95e15",
   "metadata": {},
   "source": [
    "# 3. Data Analysis"
   ]
  },
  {
   "cell_type": "code",
   "execution_count": 39,
   "id": "b67d4a84",
   "metadata": {},
   "outputs": [
    {
     "data": {
      "text/plain": [
       "9393307    395\n",
       "9619969    344\n",
       "9606338    267\n",
       "9777216    264\n",
       "9632129    252\n",
       "          ... \n",
       "9238882      7\n",
       "9110377      7\n",
       "9393319      6\n",
       "9450935      3\n",
       "9316347      1\n",
       "Name: imo, Length: 68, dtype: Int64"
      ]
     },
     "execution_count": 39,
     "metadata": {},
     "output_type": "execute_result"
    }
   ],
   "source": [
    "df['imo'].value_counts()#value counts of categorical data 'imo'"
   ]
  },
  {
   "cell_type": "code",
   "execution_count": 40,
   "id": "2bdd5144",
   "metadata": {},
   "outputs": [
    {
     "data": {
      "text/plain": [
       "CNSHG    526\n",
       "INNSA    396\n",
       "INMUN    385\n",
       "CNYTN    300\n",
       "USNYC    272\n",
       "        ... \n",
       "LBBEY      9\n",
       "AEJEA      7\n",
       "MYTPP      6\n",
       "BEANR      3\n",
       "MXPGO      1\n",
       "Name: port_code, Length: 67, dtype: int64"
      ]
     },
     "execution_count": 40,
     "metadata": {},
     "output_type": "execute_result"
    }
   ],
   "source": [
    "df['port_code'].value_counts() #value counts of categorical data 'portcode'"
   ]
  },
  {
   "cell_type": "markdown",
   "id": "4d9b9264",
   "metadata": {},
   "source": [
    "## METRICS"
   ]
  },
  {
   "cell_type": "markdown",
   "id": "94b7da25",
   "metadata": {},
   "source": [
    "### a. Actual View days ahead = (ATA - pTimestamp)"
   ]
  },
  {
   "cell_type": "code",
   "execution_count": 41,
   "id": "f0329176",
   "metadata": {},
   "outputs": [],
   "source": [
    "df['Actual View(days ahead)'] = (df['actual_arrival_utc']-df['timestamp_utc']).dt.days\n",
    "#days ahead so no need specific time and seconds"
   ]
  },
  {
   "cell_type": "markdown",
   "id": "ab6828ac",
   "metadata": {},
   "source": [
    "Actual View signifies Actual Days ahead from the Timestamp when we estimated"
   ]
  },
  {
   "cell_type": "markdown",
   "id": "40ec2820",
   "metadata": {},
   "source": [
    "#### a.1 Median Absolute Error (MAE)"
   ]
  },
  {
   "cell_type": "markdown",
   "id": "5d42a361",
   "metadata": {},
   "source": [
    "Median Absolute Error (MAE) Metrics is insensitive to outliers. \n",
    "This is because it is the median of all of the absolute values of the residuals,and the median is unaffected by values at the tails.\n"
   ]
  },
  {
   "cell_type": "code",
   "execution_count": 42,
   "id": "927c8b5f",
   "metadata": {},
   "outputs": [],
   "source": [
    "df['|ATA-pETA|'] = (df['actual_arrival_utc']-df['estimated_arrival_utc']).abs()\n",
    "#Calculating Absolute diff b/w Actual and Estimated"
   ]
  },
  {
   "cell_type": "code",
   "execution_count": 43,
   "id": "a6e07365",
   "metadata": {},
   "outputs": [],
   "source": [
    "df_av = pd.DataFrame(df.groupby(['Actual View(days ahead)'])['|ATA-pETA|'].median()) #Calculating MAE"
   ]
  },
  {
   "cell_type": "code",
   "execution_count": 44,
   "id": "89b42c24",
   "metadata": {},
   "outputs": [],
   "source": [
    "df_av = df_av.rename(columns ={'|ATA-pETA|':'MAE'})\n"
   ]
  },
  {
   "cell_type": "code",
   "execution_count": 45,
   "id": "226f97be",
   "metadata": {},
   "outputs": [
    {
     "data": {
      "text/html": [
       "<div>\n",
       "<style scoped>\n",
       "    .dataframe tbody tr th:only-of-type {\n",
       "        vertical-align: middle;\n",
       "    }\n",
       "\n",
       "    .dataframe tbody tr th {\n",
       "        vertical-align: top;\n",
       "    }\n",
       "\n",
       "    .dataframe thead th {\n",
       "        text-align: right;\n",
       "    }\n",
       "</style>\n",
       "<table border=\"1\" class=\"dataframe\">\n",
       "  <thead>\n",
       "    <tr style=\"text-align: right;\">\n",
       "      <th></th>\n",
       "      <th>MAE</th>\n",
       "    </tr>\n",
       "    <tr>\n",
       "      <th>Actual View(days ahead)</th>\n",
       "      <th></th>\n",
       "    </tr>\n",
       "  </thead>\n",
       "  <tbody>\n",
       "    <tr>\n",
       "      <th>-3</th>\n",
       "      <td>18 days 17:44:51.754379</td>\n",
       "    </tr>\n",
       "    <tr>\n",
       "      <th>-2</th>\n",
       "      <td>18 days 19:25:53.218737</td>\n",
       "    </tr>\n",
       "    <tr>\n",
       "      <th>-1</th>\n",
       "      <td>3 days 23:20:24.600107</td>\n",
       "    </tr>\n",
       "    <tr>\n",
       "      <th>0</th>\n",
       "      <td>1 days 13:20:20.534997</td>\n",
       "    </tr>\n",
       "    <tr>\n",
       "      <th>1</th>\n",
       "      <td>1 days 06:27:31.579402</td>\n",
       "    </tr>\n",
       "    <tr>\n",
       "      <th>...</th>\n",
       "      <td>...</td>\n",
       "    </tr>\n",
       "    <tr>\n",
       "      <th>59</th>\n",
       "      <td>22 days 23:26:18.937129500</td>\n",
       "    </tr>\n",
       "    <tr>\n",
       "      <th>60</th>\n",
       "      <td>23 days 18:54:47.574206</td>\n",
       "    </tr>\n",
       "    <tr>\n",
       "      <th>77</th>\n",
       "      <td>47 days 12:54:27.864274</td>\n",
       "    </tr>\n",
       "    <tr>\n",
       "      <th>78</th>\n",
       "      <td>15 days 09:17:01.884959</td>\n",
       "    </tr>\n",
       "    <tr>\n",
       "      <th>79</th>\n",
       "      <td>15 days 10:22:19.330447500</td>\n",
       "    </tr>\n",
       "  </tbody>\n",
       "</table>\n",
       "<p>67 rows × 1 columns</p>\n",
       "</div>"
      ],
      "text/plain": [
       "                                               MAE\n",
       "Actual View(days ahead)                           \n",
       "-3                         18 days 17:44:51.754379\n",
       "-2                         18 days 19:25:53.218737\n",
       "-1                          3 days 23:20:24.600107\n",
       " 0                          1 days 13:20:20.534997\n",
       " 1                          1 days 06:27:31.579402\n",
       "...                                            ...\n",
       " 59                     22 days 23:26:18.937129500\n",
       " 60                        23 days 18:54:47.574206\n",
       " 77                        47 days 12:54:27.864274\n",
       " 78                        15 days 09:17:01.884959\n",
       " 79                     15 days 10:22:19.330447500\n",
       "\n",
       "[67 rows x 1 columns]"
      ]
     },
     "execution_count": 45,
     "metadata": {},
     "output_type": "execute_result"
    }
   ],
   "source": [
    "df_av"
   ]
  },
  {
   "cell_type": "code",
   "execution_count": 46,
   "id": "227a3167",
   "metadata": {},
   "outputs": [],
   "source": [
    "#Deleting Actual View(days ahead)<0(negative) values since ideally they dont contribute to understanding Estimation and Metrics.\n",
    "#The Freight is already completed its travel and Estimating these values dont have any significant value.\n",
    "#This is Wrong data which skews the metrics in unfamiliar direction."
   ]
  },
  {
   "cell_type": "code",
   "execution_count": 47,
   "id": "cbb7cd17",
   "metadata": {},
   "outputs": [],
   "source": [
    "df_av = df_av[~df_av.index <0]"
   ]
  },
  {
   "cell_type": "code",
   "execution_count": 48,
   "id": "1865de72",
   "metadata": {},
   "outputs": [
    {
     "data": {
      "image/png": "[encoded data removed]"
     },
     "metadata": {},
     "output_type": "display_data"
    }
   ],
   "source": [
    "#Box Plot for understanding the distribution of the data\n",
    "fig = px.box(df_av['MAE'].dt.days, points = 'all')\n",
    "fig.update_layout(\n",
    "    title=\"Box Plot of Median Absolute Error wrto Actual View\",\n",
    "    xaxis_title=\"Median Absolute Error\",\n",
    "    yaxis_title=\"Value Count\"\n",
    "    )\n",
    "fig.show('png')"
   ]
  },
  {
   "cell_type": "markdown",
   "id": "53311380",
   "metadata": {},
   "source": [
    "#### Box Plot Summarizes the Median to be 4 and more values in First Quartile.The Median Absolute Error data is also closer together.MAE is Less for closer days with Actual Days."
   ]
  },
  {
   "cell_type": "code",
   "execution_count": 49,
   "id": "7fb14d35",
   "metadata": {},
   "outputs": [
    {
     "data": {
      "image/png": "[encoded data removed]"
     },
     "metadata": {},
     "output_type": "display_data"
    }
   ],
   "source": [
    "#Line chart for understanding MAE with respect to Actual Days Ahead\n",
    "fig = px.line(df_av[\"MAE\"].dt.days)\n",
    "fig.update_layout(\n",
    "    title=\"Line Chart of Median Absolute Error over Actual Days Ahead \",\n",
    "    xaxis_title=\"Actual Days Ahead\",\n",
    "    yaxis_title=\"Median Absolute Error\"\n",
    "    )\n",
    "fig.show('png')"
   ]
  },
  {
   "cell_type": "markdown",
   "id": "97a4f11f",
   "metadata": {},
   "source": [
    "#### Median Absolute Error increase as Actual days increases signifying more error as farther from ATA"
   ]
  },
  {
   "cell_type": "markdown",
   "id": "be7f3028",
   "metadata": {},
   "source": [
    "#### a.2 On Time Percentage Arrival (OTPA)"
   ]
  },
  {
   "cell_type": "code",
   "execution_count": 50,
   "id": "fab1e76f",
   "metadata": {},
   "outputs": [],
   "source": [
    "x=y=3 #-3 to +3 days as the example range for OTPA\n",
    "\n",
    "#ATA-X <= pETA <= ATA +Y\n",
    "lower_bound = df['actual_arrival_utc']-timedelta(x)\n",
    "upper_bound = df['actual_arrival_utc']+timedelta(y)"
   ]
  },
  {
   "cell_type": "markdown",
   "id": "2b38e0f7",
   "metadata": {},
   "source": [
    "n_total_count_av = df.groupby('Actual View(days ahead)')['estimated_arrival_utc'].count()\n",
    "n_total_count_av"
   ]
  },
  {
   "cell_type": "code",
   "execution_count": 51,
   "id": "3ad5e587",
   "metadata": {},
   "outputs": [
    {
     "data": {
      "text/plain": [
       "0       False\n",
       "1       False\n",
       "2       False\n",
       "3       False\n",
       "4       False\n",
       "        ...  \n",
       "6096     True\n",
       "6097     True\n",
       "6098     True\n",
       "6099     True\n",
       "6100     True\n",
       "Name: boolean_condition, Length: 6101, dtype: bool"
      ]
     },
     "execution_count": 51,
     "metadata": {},
     "output_type": "execute_result"
    }
   ],
   "source": [
    "#Boolean for the condition\n",
    "df['boolean_condition'] = ( df['estimated_arrival_utc']>= (lower_bound) ) & (df['estimated_arrival_utc']<= (upper_bound) )\n",
    "df['boolean_condition']"
   ]
  },
  {
   "cell_type": "code",
   "execution_count": 52,
   "id": "d0bb3d32",
   "metadata": {},
   "outputs": [
    {
     "data": {
      "text/html": [
       "<div>\n",
       "<style scoped>\n",
       "    .dataframe tbody tr th:only-of-type {\n",
       "        vertical-align: middle;\n",
       "    }\n",
       "\n",
       "    .dataframe tbody tr th {\n",
       "        vertical-align: top;\n",
       "    }\n",
       "\n",
       "    .dataframe thead th {\n",
       "        text-align: right;\n",
       "    }\n",
       "</style>\n",
       "<table border=\"1\" class=\"dataframe\">\n",
       "  <thead>\n",
       "    <tr style=\"text-align: right;\">\n",
       "      <th></th>\n",
       "      <th>vessel_live_info_id</th>\n",
       "      <th>timestamp_utc</th>\n",
       "      <th>scheduled_arrival_utc</th>\n",
       "      <th>estimated_arrival_utc</th>\n",
       "      <th>imo</th>\n",
       "      <th>port_code</th>\n",
       "      <th>actual_arrival_utc</th>\n",
       "      <th>Actual View(days ahead)</th>\n",
       "      <th>|ATA-pETA|</th>\n",
       "      <th>boolean_condition</th>\n",
       "    </tr>\n",
       "  </thead>\n",
       "  <tbody>\n",
       "    <tr>\n",
       "      <th>0</th>\n",
       "      <td>4e1582e1-ea33-4977-b84e-886f0095bee4</td>\n",
       "      <td>2021-07-02 02:32:29+00:00</td>\n",
       "      <td>2021-09-05 18:30:00+00:00</td>\n",
       "      <td>2021-08-07 13:50:21.965794+00:00</td>\n",
       "      <td>9393307</td>\n",
       "      <td>INMUN</td>\n",
       "      <td>2021-08-31 08:45:09.540000+00:00</td>\n",
       "      <td>60</td>\n",
       "      <td>23 days 18:54:47.574206</td>\n",
       "      <td>False</td>\n",
       "    </tr>\n",
       "    <tr>\n",
       "      <th>1</th>\n",
       "      <td>a0b4c72a-a7ec-4888-b513-77c837b0b82d</td>\n",
       "      <td>2021-07-03 03:17:16+00:00</td>\n",
       "      <td>2021-09-05 18:30:00+00:00</td>\n",
       "      <td>2021-08-07 06:24:55.229106+00:00</td>\n",
       "      <td>9393307</td>\n",
       "      <td>INMUN</td>\n",
       "      <td>2021-08-31 08:45:09.540000+00:00</td>\n",
       "      <td>59</td>\n",
       "      <td>24 days 02:20:14.310894</td>\n",
       "      <td>False</td>\n",
       "    </tr>\n",
       "    <tr>\n",
       "      <th>2</th>\n",
       "      <td>4947dc14-3471-48bc-bee1-7ba82e301182</td>\n",
       "      <td>2021-07-04 02:53:17+00:00</td>\n",
       "      <td>2021-09-05 18:30:00+00:00</td>\n",
       "      <td>2021-08-07 20:52:36.357922+00:00</td>\n",
       "      <td>9393307</td>\n",
       "      <td>INMUN</td>\n",
       "      <td>2021-08-31 08:45:09.540000+00:00</td>\n",
       "      <td>58</td>\n",
       "      <td>23 days 11:52:33.182078</td>\n",
       "      <td>False</td>\n",
       "    </tr>\n",
       "    <tr>\n",
       "      <th>3</th>\n",
       "      <td>f90f626f-1933-4c46-8749-947c2a246e0b</td>\n",
       "      <td>2021-07-04 23:55:04+00:00</td>\n",
       "      <td>2021-09-05 18:30:00+00:00</td>\n",
       "      <td>2021-08-08 16:25:14.146273+00:00</td>\n",
       "      <td>9393307</td>\n",
       "      <td>INMUN</td>\n",
       "      <td>2021-08-31 08:45:09.540000+00:00</td>\n",
       "      <td>57</td>\n",
       "      <td>22 days 16:19:55.393727</td>\n",
       "      <td>False</td>\n",
       "    </tr>\n",
       "    <tr>\n",
       "      <th>4</th>\n",
       "      <td>7ff01141-9dab-41ef-b1b7-70abc29df3ea</td>\n",
       "      <td>2021-07-06 00:33:44+00:00</td>\n",
       "      <td>2021-09-05 18:30:00+00:00</td>\n",
       "      <td>2021-08-08 15:46:31.015292+00:00</td>\n",
       "      <td>9393307</td>\n",
       "      <td>INMUN</td>\n",
       "      <td>2021-08-31 08:45:09.540000+00:00</td>\n",
       "      <td>56</td>\n",
       "      <td>22 days 16:58:38.524708</td>\n",
       "      <td>False</td>\n",
       "    </tr>\n",
       "    <tr>\n",
       "      <th>...</th>\n",
       "      <td>...</td>\n",
       "      <td>...</td>\n",
       "      <td>...</td>\n",
       "      <td>...</td>\n",
       "      <td>...</td>\n",
       "      <td>...</td>\n",
       "      <td>...</td>\n",
       "      <td>...</td>\n",
       "      <td>...</td>\n",
       "      <td>...</td>\n",
       "    </tr>\n",
       "    <tr>\n",
       "      <th>6096</th>\n",
       "      <td>61f2aa93-aa8b-4b4e-b827-c510f50cb773</td>\n",
       "      <td>2021-09-27 22:32:04+00:00</td>\n",
       "      <td>2021-09-23 16:00:00+00:00</td>\n",
       "      <td>2021-09-28 09:43:08.975365+00:00</td>\n",
       "      <td>9229324</td>\n",
       "      <td>CNYTN</td>\n",
       "      <td>2021-09-28 20:52:06.110000+00:00</td>\n",
       "      <td>0</td>\n",
       "      <td>0 days 11:08:57.134635</td>\n",
       "      <td>True</td>\n",
       "    </tr>\n",
       "    <tr>\n",
       "      <th>6097</th>\n",
       "      <td>b7092cac-ff73-46b0-90d2-fab50047d1aa</td>\n",
       "      <td>2021-09-28 00:10:03+00:00</td>\n",
       "      <td>2021-09-22 16:00:00+00:00</td>\n",
       "      <td>2021-09-28 22:00:29.220478+00:00</td>\n",
       "      <td>9606314</td>\n",
       "      <td>CNSHG</td>\n",
       "      <td>2021-09-29 00:18:54.230000+00:00</td>\n",
       "      <td>1</td>\n",
       "      <td>0 days 02:18:25.009522</td>\n",
       "      <td>True</td>\n",
       "    </tr>\n",
       "    <tr>\n",
       "      <th>6098</th>\n",
       "      <td>4675431b-c8e9-49c4-80a8-db87f41e6bdf</td>\n",
       "      <td>2021-09-28 04:44:10+00:00</td>\n",
       "      <td>2021-09-23 16:00:00+00:00</td>\n",
       "      <td>2021-09-28 08:32:12.671424+00:00</td>\n",
       "      <td>9229324</td>\n",
       "      <td>CNYTN</td>\n",
       "      <td>2021-09-28 20:52:06.110000+00:00</td>\n",
       "      <td>0</td>\n",
       "      <td>0 days 12:19:53.438576</td>\n",
       "      <td>True</td>\n",
       "    </tr>\n",
       "    <tr>\n",
       "      <th>6099</th>\n",
       "      <td>0b1f12c6-fe6f-4811-85c1-bc360f625fd2</td>\n",
       "      <td>2021-09-28 16:07:03+00:00</td>\n",
       "      <td>2021-09-22 16:00:00+00:00</td>\n",
       "      <td>2021-09-29 16:08:45.330866+00:00</td>\n",
       "      <td>9606314</td>\n",
       "      <td>CNSHG</td>\n",
       "      <td>2021-09-29 00:18:54.230000+00:00</td>\n",
       "      <td>0</td>\n",
       "      <td>0 days 15:49:51.100866</td>\n",
       "      <td>True</td>\n",
       "    </tr>\n",
       "    <tr>\n",
       "      <th>6100</th>\n",
       "      <td>eca1a57e-22f6-4ef0-8e22-c51d729265ed</td>\n",
       "      <td>2021-09-28 18:05:07+00:00</td>\n",
       "      <td>2021-09-22 16:00:00+00:00</td>\n",
       "      <td>2021-09-29 08:28:11.231728+00:00</td>\n",
       "      <td>9606314</td>\n",
       "      <td>CNSHG</td>\n",
       "      <td>2021-09-29 00:18:54.230000+00:00</td>\n",
       "      <td>0</td>\n",
       "      <td>0 days 08:09:17.001728</td>\n",
       "      <td>True</td>\n",
       "    </tr>\n",
       "  </tbody>\n",
       "</table>\n",
       "<p>6101 rows × 10 columns</p>\n",
       "</div>"
      ],
      "text/plain": [
       "                       vessel_live_info_id             timestamp_utc  \\\n",
       "0     4e1582e1-ea33-4977-b84e-886f0095bee4 2021-07-02 02:32:29+00:00   \n",
       "1     a0b4c72a-a7ec-4888-b513-77c837b0b82d 2021-07-03 03:17:16+00:00   \n",
       "2     4947dc14-3471-48bc-bee1-7ba82e301182 2021-07-04 02:53:17+00:00   \n",
       "3     f90f626f-1933-4c46-8749-947c2a246e0b 2021-07-04 23:55:04+00:00   \n",
       "4     7ff01141-9dab-41ef-b1b7-70abc29df3ea 2021-07-06 00:33:44+00:00   \n",
       "...                                    ...                       ...   \n",
       "6096  61f2aa93-aa8b-4b4e-b827-c510f50cb773 2021-09-27 22:32:04+00:00   \n",
       "6097  b7092cac-ff73-46b0-90d2-fab50047d1aa 2021-09-28 00:10:03+00:00   \n",
       "6098  4675431b-c8e9-49c4-80a8-db87f41e6bdf 2021-09-28 04:44:10+00:00   \n",
       "6099  0b1f12c6-fe6f-4811-85c1-bc360f625fd2 2021-09-28 16:07:03+00:00   \n",
       "6100  eca1a57e-22f6-4ef0-8e22-c51d729265ed 2021-09-28 18:05:07+00:00   \n",
       "\n",
       "         scheduled_arrival_utc            estimated_arrival_utc      imo  \\\n",
       "0    2021-09-05 18:30:00+00:00 2021-08-07 13:50:21.965794+00:00  9393307   \n",
       "1    2021-09-05 18:30:00+00:00 2021-08-07 06:24:55.229106+00:00  9393307   \n",
       "2    2021-09-05 18:30:00+00:00 2021-08-07 20:52:36.357922+00:00  9393307   \n",
       "3    2021-09-05 18:30:00+00:00 2021-08-08 16:25:14.146273+00:00  9393307   \n",
       "4    2021-09-05 18:30:00+00:00 2021-08-08 15:46:31.015292+00:00  9393307   \n",
       "...                        ...                              ...      ...   \n",
       "6096 2021-09-23 16:00:00+00:00 2021-09-28 09:43:08.975365+00:00  9229324   \n",
       "6097 2021-09-22 16:00:00+00:00 2021-09-28 22:00:29.220478+00:00  9606314   \n",
       "6098 2021-09-23 16:00:00+00:00 2021-09-28 08:32:12.671424+00:00  9229324   \n",
       "6099 2021-09-22 16:00:00+00:00 2021-09-29 16:08:45.330866+00:00  9606314   \n",
       "6100 2021-09-22 16:00:00+00:00 2021-09-29 08:28:11.231728+00:00  9606314   \n",
       "\n",
       "     port_code               actual_arrival_utc  Actual View(days ahead)  \\\n",
       "0        INMUN 2021-08-31 08:45:09.540000+00:00                       60   \n",
       "1        INMUN 2021-08-31 08:45:09.540000+00:00                       59   \n",
       "2        INMUN 2021-08-31 08:45:09.540000+00:00                       58   \n",
       "3        INMUN 2021-08-31 08:45:09.540000+00:00                       57   \n",
       "4        INMUN 2021-08-31 08:45:09.540000+00:00                       56   \n",
       "...        ...                              ...                      ...   \n",
       "6096     CNYTN 2021-09-28 20:52:06.110000+00:00                        0   \n",
       "6097     CNSHG 2021-09-29 00:18:54.230000+00:00                        1   \n",
       "6098     CNYTN 2021-09-28 20:52:06.110000+00:00                        0   \n",
       "6099     CNSHG 2021-09-29 00:18:54.230000+00:00                        0   \n",
       "6100     CNSHG 2021-09-29 00:18:54.230000+00:00                        0   \n",
       "\n",
       "                  |ATA-pETA|  boolean_condition  \n",
       "0    23 days 18:54:47.574206              False  \n",
       "1    24 days 02:20:14.310894              False  \n",
       "2    23 days 11:52:33.182078              False  \n",
       "3    22 days 16:19:55.393727              False  \n",
       "4    22 days 16:58:38.524708              False  \n",
       "...                      ...                ...  \n",
       "6096  0 days 11:08:57.134635               True  \n",
       "6097  0 days 02:18:25.009522               True  \n",
       "6098  0 days 12:19:53.438576               True  \n",
       "6099  0 days 15:49:51.100866               True  \n",
       "6100  0 days 08:09:17.001728               True  \n",
       "\n",
       "[6101 rows x 10 columns]"
      ]
     },
     "execution_count": 52,
     "metadata": {},
     "output_type": "execute_result"
    }
   ],
   "source": [
    "df"
   ]
  },
  {
   "cell_type": "code",
   "execution_count": 53,
   "id": "ef6b7d84",
   "metadata": {},
   "outputs": [],
   "source": [
    "df_av_otpa = df.groupby('Actual View(days ahead)')['boolean_condition'].apply(lambda x: (x==True).sum()).reset_index(name='count')"
   ]
  },
  {
   "cell_type": "code",
   "execution_count": 54,
   "id": "e2582395",
   "metadata": {},
   "outputs": [],
   "source": [
    "df_av_otpa = df_av_otpa.set_index(\"Actual View(days ahead)\")"
   ]
  },
  {
   "cell_type": "code",
   "execution_count": 55,
   "id": "ec4325c9",
   "metadata": {},
   "outputs": [
    {
     "data": {
      "text/plain": [
       "Int64Index([ 0,  1,  2,  3,  4,  5,  6,  7,  8,  9, 10, 11, 12, 13, 14, 15, 16,\n",
       "            17, 18, 19, 20, 21, 22, 23, 24, 25, 26, 27, 28, 29, 30, 31, 32, 33,\n",
       "            34, 35, 36, 37, 38, 39, 40, 41, 42, 43, 44, 45, 46, 47, 48, 49, 50,\n",
       "            51, 52, 53, 54, 55, 56, 57, 58, 59, 60, 77, 78, 79],\n",
       "           dtype='int64', name='Actual View(days ahead)')"
      ]
     },
     "execution_count": 55,
     "metadata": {},
     "output_type": "execute_result"
    }
   ],
   "source": [
    "df_av_otpa = df_av_otpa[~df_av_otpa.index <0]\n",
    "df_av_otpa.index"
   ]
  },
  {
   "cell_type": "code",
   "execution_count": 56,
   "id": "0e07899d",
   "metadata": {},
   "outputs": [
    {
     "data": {
      "text/plain": [
       "Actual View(days ahead)\n",
       "-3       3\n",
       "-2       4\n",
       "-1      11\n",
       " 0     236\n",
       " 1     227\n",
       "      ... \n",
       " 59      2\n",
       " 60      1\n",
       " 77      3\n",
       " 78      3\n",
       " 79      2\n",
       "Name: n, Length: 67, dtype: int64"
      ]
     },
     "execution_count": 56,
     "metadata": {},
     "output_type": "execute_result"
    }
   ],
   "source": [
    "#n = Total count of values satisfying the condition\n",
    "n_av = df.groupby('Actual View(days ahead)')['boolean_condition'].count()\n",
    "n_av.rename('n',inplace=True)"
   ]
  },
  {
   "cell_type": "code",
   "execution_count": 57,
   "id": "942828d4",
   "metadata": {},
   "outputs": [
    {
     "data": {
      "text/plain": [
       "Int64Index([-3, -2, -1,  0,  1,  2,  3,  4,  5,  6,  7,  8,  9, 10, 11, 12, 13,\n",
       "            14, 15, 16, 17, 18, 19, 20, 21, 22, 23, 24, 25, 26, 27, 28, 29, 30,\n",
       "            31, 32, 33, 34, 35, 36, 37, 38, 39, 40, 41, 42, 43, 44, 45, 46, 47,\n",
       "            48, 49, 50, 51, 52, 53, 54, 55, 56, 57, 58, 59, 60, 77, 78, 79],\n",
       "           dtype='int64', name='Actual View(days ahead)')"
      ]
     },
     "execution_count": 57,
     "metadata": {},
     "output_type": "execute_result"
    }
   ],
   "source": [
    "n_av.index"
   ]
  },
  {
   "cell_type": "code",
   "execution_count": 58,
   "id": "a3a73e73",
   "metadata": {},
   "outputs": [],
   "source": [
    "n_av = n_av[~n_av.index <0]"
   ]
  },
  {
   "cell_type": "code",
   "execution_count": 59,
   "id": "5fbf28ce",
   "metadata": {
    "scrolled": true
   },
   "outputs": [
    {
     "name": "stdout",
     "output_type": "stream",
     "text": [
      "<class 'pandas.core.frame.DataFrame'>\n",
      "Int64Index: 64 entries, 0 to 79\n",
      "Data columns (total 1 columns):\n",
      " #   Column  Non-Null Count  Dtype\n",
      "---  ------  --------------  -----\n",
      " 0   count   64 non-null     int64\n",
      "dtypes: int64(1)\n",
      "memory usage: 1.0 KB\n"
     ]
    }
   ],
   "source": [
    "#df_pv_otpa = pd.concat([df_pv_otpa, n_pv], axis=1, join=\"inner\")\n",
    "df_av_otpa.info()"
   ]
  },
  {
   "cell_type": "code",
   "execution_count": 60,
   "id": "68777e88",
   "metadata": {},
   "outputs": [
    {
     "data": {
      "text/html": [
       "<div>\n",
       "<style scoped>\n",
       "    .dataframe tbody tr th:only-of-type {\n",
       "        vertical-align: middle;\n",
       "    }\n",
       "\n",
       "    .dataframe tbody tr th {\n",
       "        vertical-align: top;\n",
       "    }\n",
       "\n",
       "    .dataframe thead th {\n",
       "        text-align: right;\n",
       "    }\n",
       "</style>\n",
       "<table border=\"1\" class=\"dataframe\">\n",
       "  <thead>\n",
       "    <tr style=\"text-align: right;\">\n",
       "      <th></th>\n",
       "      <th>count</th>\n",
       "      <th>OTPA</th>\n",
       "    </tr>\n",
       "    <tr>\n",
       "      <th>Actual View(days ahead)</th>\n",
       "      <th></th>\n",
       "      <th></th>\n",
       "    </tr>\n",
       "  </thead>\n",
       "  <tbody>\n",
       "    <tr>\n",
       "      <th>0</th>\n",
       "      <td>143</td>\n",
       "      <td>60.593220</td>\n",
       "    </tr>\n",
       "    <tr>\n",
       "      <th>1</th>\n",
       "      <td>142</td>\n",
       "      <td>62.555066</td>\n",
       "    </tr>\n",
       "    <tr>\n",
       "      <th>2</th>\n",
       "      <td>156</td>\n",
       "      <td>68.421053</td>\n",
       "    </tr>\n",
       "    <tr>\n",
       "      <th>3</th>\n",
       "      <td>160</td>\n",
       "      <td>69.868996</td>\n",
       "    </tr>\n",
       "    <tr>\n",
       "      <th>4</th>\n",
       "      <td>152</td>\n",
       "      <td>69.090909</td>\n",
       "    </tr>\n",
       "    <tr>\n",
       "      <th>...</th>\n",
       "      <td>...</td>\n",
       "      <td>...</td>\n",
       "    </tr>\n",
       "    <tr>\n",
       "      <th>59</th>\n",
       "      <td>0</td>\n",
       "      <td>0.000000</td>\n",
       "    </tr>\n",
       "    <tr>\n",
       "      <th>60</th>\n",
       "      <td>0</td>\n",
       "      <td>0.000000</td>\n",
       "    </tr>\n",
       "    <tr>\n",
       "      <th>77</th>\n",
       "      <td>0</td>\n",
       "      <td>0.000000</td>\n",
       "    </tr>\n",
       "    <tr>\n",
       "      <th>78</th>\n",
       "      <td>0</td>\n",
       "      <td>0.000000</td>\n",
       "    </tr>\n",
       "    <tr>\n",
       "      <th>79</th>\n",
       "      <td>0</td>\n",
       "      <td>0.000000</td>\n",
       "    </tr>\n",
       "  </tbody>\n",
       "</table>\n",
       "<p>64 rows × 2 columns</p>\n",
       "</div>"
      ],
      "text/plain": [
       "                         count       OTPA\n",
       "Actual View(days ahead)                  \n",
       "0                          143  60.593220\n",
       "1                          142  62.555066\n",
       "2                          156  68.421053\n",
       "3                          160  69.868996\n",
       "4                          152  69.090909\n",
       "...                        ...        ...\n",
       "59                           0   0.000000\n",
       "60                           0   0.000000\n",
       "77                           0   0.000000\n",
       "78                           0   0.000000\n",
       "79                           0   0.000000\n",
       "\n",
       "[64 rows x 2 columns]"
      ]
     },
     "execution_count": 60,
     "metadata": {},
     "output_type": "execute_result"
    }
   ],
   "source": [
    "df_av_otpa['OTPA'] = 100*df_av_otpa['count']/n_av\n",
    "df_av_otpa"
   ]
  },
  {
   "cell_type": "code",
   "execution_count": 61,
   "id": "ddda1a0a",
   "metadata": {},
   "outputs": [
    {
     "data": {
      "image/png": "[encoded data removed]"
     },
     "metadata": {},
     "output_type": "display_data"
    }
   ],
   "source": [
    "#Box Plot for understanding the distribution of the OTPA data\n",
    "fig = px.box(df_av_otpa['OTPA'], points = 'all')\n",
    "fig.update_layout(\n",
    "    title=\"Box Plot of OTPA/Accuracy wrto Actual View\",\n",
    "    xaxis_title=\"OTPA/Accuracy\",\n",
    "    yaxis_title=\"Value Count\"\n",
    "    )\n",
    "fig.show('png')"
   ]
  },
  {
   "cell_type": "markdown",
   "id": "d1a6761d",
   "metadata": {},
   "source": [
    "#### Box Plot Summarizes the Median to be around 31 and more values in First Quartile"
   ]
  },
  {
   "cell_type": "code",
   "execution_count": 62,
   "id": "b42072a4",
   "metadata": {},
   "outputs": [
    {
     "data": {
      "image/png": "[encoded data removed]"
     },
     "metadata": {},
     "output_type": "display_data"
    }
   ],
   "source": [
    "#Line chart for understanding OTPA/Accuracy with respect to Actual Days Ahead\n",
    "fig = px.line(df_av_otpa['OTPA'])\n",
    "fig.update_layout(\n",
    "    title=\"Line Chart of OTPA/Accuracy over Actual Days Ahead \",\n",
    "    xaxis_title=\"Actual Days Ahead\",\n",
    "    yaxis_title=\"OTPA/Accuracy\"\n",
    "    )\n",
    "fig.show('png')\n"
   ]
  },
  {
   "cell_type": "markdown",
   "id": "4fbadcd5",
   "metadata": {},
   "source": [
    "#### The Line Chart summarizes Better 'OTPA/Accuracy' with minimum \"Actual Days Ahead\""
   ]
  },
  {
   "cell_type": "markdown",
   "id": "888209d3",
   "metadata": {},
   "source": [
    "### b. Prediction View days ahead = (pETA - pTimestamp)"
   ]
  },
  {
   "cell_type": "code",
   "execution_count": 63,
   "id": "7eac2d44",
   "metadata": {},
   "outputs": [],
   "source": [
    "df['Prediction View(days ahead)'] = (df['estimated_arrival_utc']-df['timestamp_utc']).dt.days"
   ]
  },
  {
   "cell_type": "markdown",
   "id": "fda988f4",
   "metadata": {},
   "source": [
    "#### b.1 Median Absolute Error (MAE)"
   ]
  },
  {
   "cell_type": "code",
   "execution_count": 64,
   "id": "dffdcad5",
   "metadata": {},
   "outputs": [
    {
     "data": {
      "text/plain": [
       "Int64Index([ 0,  1,  2,  3,  4,  5,  6,  7,  8,  9, 10, 11, 12, 13, 14, 15, 16,\n",
       "            17, 18, 19, 20, 21, 22, 23, 24, 25, 26, 27, 28, 29, 30, 31, 32, 33,\n",
       "            34, 35, 36, 37, 38, 39, 40, 41, 42, 43, 44, 45, 46, 47, 48, 49, 50,\n",
       "            51, 52, 53, 54, 55, 56, 57, 59, 63, 95, 96],\n",
       "           dtype='int64', name='Prediction View(days ahead)')"
      ]
     },
     "execution_count": 64,
     "metadata": {},
     "output_type": "execute_result"
    }
   ],
   "source": [
    "df_pv = pd.DataFrame(df.groupby(['Prediction View(days ahead)'])['|ATA-pETA|'].median())\n",
    "df_pv.index"
   ]
  },
  {
   "cell_type": "code",
   "execution_count": 65,
   "id": "70dc2fcd",
   "metadata": {},
   "outputs": [],
   "source": [
    "df_pv = df_pv.rename(columns ={'|ATA-pETA|':'MAE'})"
   ]
  },
  {
   "cell_type": "code",
   "execution_count": 66,
   "id": "03143f85",
   "metadata": {},
   "outputs": [
    {
     "data": {
      "image/png": "[encoded data removed]"
     },
     "metadata": {},
     "output_type": "display_data"
    }
   ],
   "source": [
    "fig = px.box(df_pv['MAE'].dt.days, points = 'all')\n",
    "fig.update_layout(\n",
    "    title=\"Box Plot of Median Absolute Error wrto Prediction View\",\n",
    "    xaxis_title=\"Median Absolute Error\",\n",
    "    yaxis_title=\"Value Count\"\n",
    "    )\n",
    "fig.show('png')"
   ]
  },
  {
   "cell_type": "markdown",
   "id": "bb56a3b4",
   "metadata": {},
   "source": [
    "#### Box Plot Summarizes the Median to be 5 .The Median Absolute Error data is also closer together."
   ]
  },
  {
   "cell_type": "code",
   "execution_count": 67,
   "id": "45691bd3",
   "metadata": {},
   "outputs": [
    {
     "data": {
      "image/png": "[encoded data removed]"
     },
     "metadata": {},
     "output_type": "display_data"
    }
   ],
   "source": [
    "fig = px.line(df_pv[\"MAE\"].dt.days, title='MAE over Prediction Days Ahead')\n",
    "fig.update_layout(\n",
    "    title=\"Line Chart of Median Absolute Error over Prediction Days Ahead \",\n",
    "    xaxis_title=\"Prediction Days Ahead\",\n",
    "    yaxis_title=\"Median Absolute Error\"\n",
    "    )\n",
    "fig.show('png')"
   ]
  },
  {
   "cell_type": "markdown",
   "id": "a22e98a9",
   "metadata": {},
   "source": [
    "#### b.2 On Time Percentage Arrival (OTPA)/Accuracy"
   ]
  },
  {
   "cell_type": "code",
   "execution_count": 68,
   "id": "987db7f1",
   "metadata": {},
   "outputs": [
    {
     "data": {
      "text/plain": [
       "Prediction View(days ahead)\n",
       "0     142\n",
       "1     173\n",
       "2     194\n",
       "3     206\n",
       "4     261\n",
       "     ... \n",
       "57      1\n",
       "59      1\n",
       "63      4\n",
       "95      3\n",
       "96      1\n",
       "Name: estimated_arrival_utc, Length: 62, dtype: int64"
      ]
     },
     "execution_count": 68,
     "metadata": {},
     "output_type": "execute_result"
    }
   ],
   "source": [
    "n_total_count_pv = df.groupby('Prediction View(days ahead)')['estimated_arrival_utc'].count()\n",
    "n_total_count_pv"
   ]
  },
  {
   "cell_type": "code",
   "execution_count": 69,
   "id": "7a2ac3f3",
   "metadata": {},
   "outputs": [
    {
     "data": {
      "text/html": [
       "<div>\n",
       "<style scoped>\n",
       "    .dataframe tbody tr th:only-of-type {\n",
       "        vertical-align: middle;\n",
       "    }\n",
       "\n",
       "    .dataframe tbody tr th {\n",
       "        vertical-align: top;\n",
       "    }\n",
       "\n",
       "    .dataframe thead th {\n",
       "        text-align: right;\n",
       "    }\n",
       "</style>\n",
       "<table border=\"1\" class=\"dataframe\">\n",
       "  <thead>\n",
       "    <tr style=\"text-align: right;\">\n",
       "      <th></th>\n",
       "      <th>vessel_live_info_id</th>\n",
       "      <th>timestamp_utc</th>\n",
       "      <th>scheduled_arrival_utc</th>\n",
       "      <th>estimated_arrival_utc</th>\n",
       "      <th>imo</th>\n",
       "      <th>port_code</th>\n",
       "      <th>actual_arrival_utc</th>\n",
       "      <th>Actual View(days ahead)</th>\n",
       "      <th>|ATA-pETA|</th>\n",
       "      <th>boolean_condition</th>\n",
       "      <th>Prediction View(days ahead)</th>\n",
       "    </tr>\n",
       "  </thead>\n",
       "  <tbody>\n",
       "    <tr>\n",
       "      <th>0</th>\n",
       "      <td>4e1582e1-ea33-4977-b84e-886f0095bee4</td>\n",
       "      <td>2021-07-02 02:32:29+00:00</td>\n",
       "      <td>2021-09-05 18:30:00+00:00</td>\n",
       "      <td>2021-08-07 13:50:21.965794+00:00</td>\n",
       "      <td>9393307</td>\n",
       "      <td>INMUN</td>\n",
       "      <td>2021-08-31 08:45:09.540000+00:00</td>\n",
       "      <td>60</td>\n",
       "      <td>23 days 18:54:47.574206</td>\n",
       "      <td>False</td>\n",
       "      <td>36</td>\n",
       "    </tr>\n",
       "    <tr>\n",
       "      <th>1</th>\n",
       "      <td>a0b4c72a-a7ec-4888-b513-77c837b0b82d</td>\n",
       "      <td>2021-07-03 03:17:16+00:00</td>\n",
       "      <td>2021-09-05 18:30:00+00:00</td>\n",
       "      <td>2021-08-07 06:24:55.229106+00:00</td>\n",
       "      <td>9393307</td>\n",
       "      <td>INMUN</td>\n",
       "      <td>2021-08-31 08:45:09.540000+00:00</td>\n",
       "      <td>59</td>\n",
       "      <td>24 days 02:20:14.310894</td>\n",
       "      <td>False</td>\n",
       "      <td>35</td>\n",
       "    </tr>\n",
       "    <tr>\n",
       "      <th>2</th>\n",
       "      <td>4947dc14-3471-48bc-bee1-7ba82e301182</td>\n",
       "      <td>2021-07-04 02:53:17+00:00</td>\n",
       "      <td>2021-09-05 18:30:00+00:00</td>\n",
       "      <td>2021-08-07 20:52:36.357922+00:00</td>\n",
       "      <td>9393307</td>\n",
       "      <td>INMUN</td>\n",
       "      <td>2021-08-31 08:45:09.540000+00:00</td>\n",
       "      <td>58</td>\n",
       "      <td>23 days 11:52:33.182078</td>\n",
       "      <td>False</td>\n",
       "      <td>34</td>\n",
       "    </tr>\n",
       "    <tr>\n",
       "      <th>3</th>\n",
       "      <td>f90f626f-1933-4c46-8749-947c2a246e0b</td>\n",
       "      <td>2021-07-04 23:55:04+00:00</td>\n",
       "      <td>2021-09-05 18:30:00+00:00</td>\n",
       "      <td>2021-08-08 16:25:14.146273+00:00</td>\n",
       "      <td>9393307</td>\n",
       "      <td>INMUN</td>\n",
       "      <td>2021-08-31 08:45:09.540000+00:00</td>\n",
       "      <td>57</td>\n",
       "      <td>22 days 16:19:55.393727</td>\n",
       "      <td>False</td>\n",
       "      <td>34</td>\n",
       "    </tr>\n",
       "    <tr>\n",
       "      <th>4</th>\n",
       "      <td>7ff01141-9dab-41ef-b1b7-70abc29df3ea</td>\n",
       "      <td>2021-07-06 00:33:44+00:00</td>\n",
       "      <td>2021-09-05 18:30:00+00:00</td>\n",
       "      <td>2021-08-08 15:46:31.015292+00:00</td>\n",
       "      <td>9393307</td>\n",
       "      <td>INMUN</td>\n",
       "      <td>2021-08-31 08:45:09.540000+00:00</td>\n",
       "      <td>56</td>\n",
       "      <td>22 days 16:58:38.524708</td>\n",
       "      <td>False</td>\n",
       "      <td>33</td>\n",
       "    </tr>\n",
       "    <tr>\n",
       "      <th>...</th>\n",
       "      <td>...</td>\n",
       "      <td>...</td>\n",
       "      <td>...</td>\n",
       "      <td>...</td>\n",
       "      <td>...</td>\n",
       "      <td>...</td>\n",
       "      <td>...</td>\n",
       "      <td>...</td>\n",
       "      <td>...</td>\n",
       "      <td>...</td>\n",
       "      <td>...</td>\n",
       "    </tr>\n",
       "    <tr>\n",
       "      <th>6096</th>\n",
       "      <td>61f2aa93-aa8b-4b4e-b827-c510f50cb773</td>\n",
       "      <td>2021-09-27 22:32:04+00:00</td>\n",
       "      <td>2021-09-23 16:00:00+00:00</td>\n",
       "      <td>2021-09-28 09:43:08.975365+00:00</td>\n",
       "      <td>9229324</td>\n",
       "      <td>CNYTN</td>\n",
       "      <td>2021-09-28 20:52:06.110000+00:00</td>\n",
       "      <td>0</td>\n",
       "      <td>0 days 11:08:57.134635</td>\n",
       "      <td>True</td>\n",
       "      <td>0</td>\n",
       "    </tr>\n",
       "    <tr>\n",
       "      <th>6097</th>\n",
       "      <td>b7092cac-ff73-46b0-90d2-fab50047d1aa</td>\n",
       "      <td>2021-09-28 00:10:03+00:00</td>\n",
       "      <td>2021-09-22 16:00:00+00:00</td>\n",
       "      <td>2021-09-28 22:00:29.220478+00:00</td>\n",
       "      <td>9606314</td>\n",
       "      <td>CNSHG</td>\n",
       "      <td>2021-09-29 00:18:54.230000+00:00</td>\n",
       "      <td>1</td>\n",
       "      <td>0 days 02:18:25.009522</td>\n",
       "      <td>True</td>\n",
       "      <td>0</td>\n",
       "    </tr>\n",
       "    <tr>\n",
       "      <th>6098</th>\n",
       "      <td>4675431b-c8e9-49c4-80a8-db87f41e6bdf</td>\n",
       "      <td>2021-09-28 04:44:10+00:00</td>\n",
       "      <td>2021-09-23 16:00:00+00:00</td>\n",
       "      <td>2021-09-28 08:32:12.671424+00:00</td>\n",
       "      <td>9229324</td>\n",
       "      <td>CNYTN</td>\n",
       "      <td>2021-09-28 20:52:06.110000+00:00</td>\n",
       "      <td>0</td>\n",
       "      <td>0 days 12:19:53.438576</td>\n",
       "      <td>True</td>\n",
       "      <td>0</td>\n",
       "    </tr>\n",
       "    <tr>\n",
       "      <th>6099</th>\n",
       "      <td>0b1f12c6-fe6f-4811-85c1-bc360f625fd2</td>\n",
       "      <td>2021-09-28 16:07:03+00:00</td>\n",
       "      <td>2021-09-22 16:00:00+00:00</td>\n",
       "      <td>2021-09-29 16:08:45.330866+00:00</td>\n",
       "      <td>9606314</td>\n",
       "      <td>CNSHG</td>\n",
       "      <td>2021-09-29 00:18:54.230000+00:00</td>\n",
       "      <td>0</td>\n",
       "      <td>0 days 15:49:51.100866</td>\n",
       "      <td>True</td>\n",
       "      <td>1</td>\n",
       "    </tr>\n",
       "    <tr>\n",
       "      <th>6100</th>\n",
       "      <td>eca1a57e-22f6-4ef0-8e22-c51d729265ed</td>\n",
       "      <td>2021-09-28 18:05:07+00:00</td>\n",
       "      <td>2021-09-22 16:00:00+00:00</td>\n",
       "      <td>2021-09-29 08:28:11.231728+00:00</td>\n",
       "      <td>9606314</td>\n",
       "      <td>CNSHG</td>\n",
       "      <td>2021-09-29 00:18:54.230000+00:00</td>\n",
       "      <td>0</td>\n",
       "      <td>0 days 08:09:17.001728</td>\n",
       "      <td>True</td>\n",
       "      <td>0</td>\n",
       "    </tr>\n",
       "  </tbody>\n",
       "</table>\n",
       "<p>6101 rows × 11 columns</p>\n",
       "</div>"
      ],
      "text/plain": [
       "                       vessel_live_info_id             timestamp_utc  \\\n",
       "0     4e1582e1-ea33-4977-b84e-886f0095bee4 2021-07-02 02:32:29+00:00   \n",
       "1     a0b4c72a-a7ec-4888-b513-77c837b0b82d 2021-07-03 03:17:16+00:00   \n",
       "2     4947dc14-3471-48bc-bee1-7ba82e301182 2021-07-04 02:53:17+00:00   \n",
       "3     f90f626f-1933-4c46-8749-947c2a246e0b 2021-07-04 23:55:04+00:00   \n",
       "4     7ff01141-9dab-41ef-b1b7-70abc29df3ea 2021-07-06 00:33:44+00:00   \n",
       "...                                    ...                       ...   \n",
       "6096  61f2aa93-aa8b-4b4e-b827-c510f50cb773 2021-09-27 22:32:04+00:00   \n",
       "6097  b7092cac-ff73-46b0-90d2-fab50047d1aa 2021-09-28 00:10:03+00:00   \n",
       "6098  4675431b-c8e9-49c4-80a8-db87f41e6bdf 2021-09-28 04:44:10+00:00   \n",
       "6099  0b1f12c6-fe6f-4811-85c1-bc360f625fd2 2021-09-28 16:07:03+00:00   \n",
       "6100  eca1a57e-22f6-4ef0-8e22-c51d729265ed 2021-09-28 18:05:07+00:00   \n",
       "\n",
       "         scheduled_arrival_utc            estimated_arrival_utc      imo  \\\n",
       "0    2021-09-05 18:30:00+00:00 2021-08-07 13:50:21.965794+00:00  9393307   \n",
       "1    2021-09-05 18:30:00+00:00 2021-08-07 06:24:55.229106+00:00  9393307   \n",
       "2    2021-09-05 18:30:00+00:00 2021-08-07 20:52:36.357922+00:00  9393307   \n",
       "3    2021-09-05 18:30:00+00:00 2021-08-08 16:25:14.146273+00:00  9393307   \n",
       "4    2021-09-05 18:30:00+00:00 2021-08-08 15:46:31.015292+00:00  9393307   \n",
       "...                        ...                              ...      ...   \n",
       "6096 2021-09-23 16:00:00+00:00 2021-09-28 09:43:08.975365+00:00  9229324   \n",
       "6097 2021-09-22 16:00:00+00:00 2021-09-28 22:00:29.220478+00:00  9606314   \n",
       "6098 2021-09-23 16:00:00+00:00 2021-09-28 08:32:12.671424+00:00  9229324   \n",
       "6099 2021-09-22 16:00:00+00:00 2021-09-29 16:08:45.330866+00:00  9606314   \n",
       "6100 2021-09-22 16:00:00+00:00 2021-09-29 08:28:11.231728+00:00  9606314   \n",
       "\n",
       "     port_code               actual_arrival_utc  Actual View(days ahead)  \\\n",
       "0        INMUN 2021-08-31 08:45:09.540000+00:00                       60   \n",
       "1        INMUN 2021-08-31 08:45:09.540000+00:00                       59   \n",
       "2        INMUN 2021-08-31 08:45:09.540000+00:00                       58   \n",
       "3        INMUN 2021-08-31 08:45:09.540000+00:00                       57   \n",
       "4        INMUN 2021-08-31 08:45:09.540000+00:00                       56   \n",
       "...        ...                              ...                      ...   \n",
       "6096     CNYTN 2021-09-28 20:52:06.110000+00:00                        0   \n",
       "6097     CNSHG 2021-09-29 00:18:54.230000+00:00                        1   \n",
       "6098     CNYTN 2021-09-28 20:52:06.110000+00:00                        0   \n",
       "6099     CNSHG 2021-09-29 00:18:54.230000+00:00                        0   \n",
       "6100     CNSHG 2021-09-29 00:18:54.230000+00:00                        0   \n",
       "\n",
       "                  |ATA-pETA|  boolean_condition  Prediction View(days ahead)  \n",
       "0    23 days 18:54:47.574206              False                           36  \n",
       "1    24 days 02:20:14.310894              False                           35  \n",
       "2    23 days 11:52:33.182078              False                           34  \n",
       "3    22 days 16:19:55.393727              False                           34  \n",
       "4    22 days 16:58:38.524708              False                           33  \n",
       "...                      ...                ...                          ...  \n",
       "6096  0 days 11:08:57.134635               True                            0  \n",
       "6097  0 days 02:18:25.009522               True                            0  \n",
       "6098  0 days 12:19:53.438576               True                            0  \n",
       "6099  0 days 15:49:51.100866               True                            1  \n",
       "6100  0 days 08:09:17.001728               True                            0  \n",
       "\n",
       "[6101 rows x 11 columns]"
      ]
     },
     "execution_count": 69,
     "metadata": {},
     "output_type": "execute_result"
    }
   ],
   "source": [
    "df"
   ]
  },
  {
   "cell_type": "code",
   "execution_count": 70,
   "id": "690b406f",
   "metadata": {},
   "outputs": [],
   "source": [
    "df_pv_otpa = df.groupby('Prediction View(days ahead)')['boolean_condition'].apply(lambda x: (x==True).sum()).reset_index(name='count')"
   ]
  },
  {
   "cell_type": "code",
   "execution_count": 71,
   "id": "10bc9f2a",
   "metadata": {},
   "outputs": [],
   "source": [
    "df_pv_otpa = df_pv_otpa.set_index(\"Prediction View(days ahead)\")"
   ]
  },
  {
   "cell_type": "code",
   "execution_count": 72,
   "id": "6b2367c9",
   "metadata": {},
   "outputs": [
    {
     "data": {
      "text/plain": [
       "Prediction View(days ahead)\n",
       "0     142\n",
       "1     173\n",
       "2     194\n",
       "3     206\n",
       "4     261\n",
       "     ... \n",
       "57      1\n",
       "59      1\n",
       "63      4\n",
       "95      3\n",
       "96      1\n",
       "Name: n, Length: 62, dtype: int64"
      ]
     },
     "execution_count": 72,
     "metadata": {},
     "output_type": "execute_result"
    }
   ],
   "source": [
    "n_pv = df.groupby('Prediction View(days ahead)')['boolean_condition'].count()\n",
    "n_pv.rename('n',inplace=True)"
   ]
  },
  {
   "cell_type": "code",
   "execution_count": 73,
   "id": "acb1852d",
   "metadata": {
    "scrolled": true
   },
   "outputs": [
    {
     "name": "stdout",
     "output_type": "stream",
     "text": [
      "<class 'pandas.core.frame.DataFrame'>\n",
      "Int64Index: 62 entries, 0 to 96\n",
      "Data columns (total 1 columns):\n",
      " #   Column  Non-Null Count  Dtype\n",
      "---  ------  --------------  -----\n",
      " 0   count   62 non-null     int64\n",
      "dtypes: int64(1)\n",
      "memory usage: 992.0 bytes\n"
     ]
    }
   ],
   "source": [
    "df_pv_otpa.info()"
   ]
  },
  {
   "cell_type": "code",
   "execution_count": 74,
   "id": "1a967822",
   "metadata": {},
   "outputs": [
    {
     "data": {
      "text/html": [
       "<div>\n",
       "<style scoped>\n",
       "    .dataframe tbody tr th:only-of-type {\n",
       "        vertical-align: middle;\n",
       "    }\n",
       "\n",
       "    .dataframe tbody tr th {\n",
       "        vertical-align: top;\n",
       "    }\n",
       "\n",
       "    .dataframe thead th {\n",
       "        text-align: right;\n",
       "    }\n",
       "</style>\n",
       "<table border=\"1\" class=\"dataframe\">\n",
       "  <thead>\n",
       "    <tr style=\"text-align: right;\">\n",
       "      <th></th>\n",
       "      <th>count</th>\n",
       "    </tr>\n",
       "    <tr>\n",
       "      <th>Prediction View(days ahead)</th>\n",
       "      <th></th>\n",
       "    </tr>\n",
       "  </thead>\n",
       "  <tbody>\n",
       "    <tr>\n",
       "      <th>0</th>\n",
       "      <td>136</td>\n",
       "    </tr>\n",
       "    <tr>\n",
       "      <th>1</th>\n",
       "      <td>155</td>\n",
       "    </tr>\n",
       "    <tr>\n",
       "      <th>2</th>\n",
       "      <td>172</td>\n",
       "    </tr>\n",
       "    <tr>\n",
       "      <th>3</th>\n",
       "      <td>156</td>\n",
       "    </tr>\n",
       "    <tr>\n",
       "      <th>4</th>\n",
       "      <td>170</td>\n",
       "    </tr>\n",
       "  </tbody>\n",
       "</table>\n",
       "</div>"
      ],
      "text/plain": [
       "                             count\n",
       "Prediction View(days ahead)       \n",
       "0                              136\n",
       "1                              155\n",
       "2                              172\n",
       "3                              156\n",
       "4                              170"
      ]
     },
     "execution_count": 74,
     "metadata": {},
     "output_type": "execute_result"
    }
   ],
   "source": [
    "df_pv_otpa.head(5)"
   ]
  },
  {
   "cell_type": "code",
   "execution_count": 75,
   "id": "95c6bfab",
   "metadata": {},
   "outputs": [
    {
     "data": {
      "text/html": [
       "<div>\n",
       "<style scoped>\n",
       "    .dataframe tbody tr th:only-of-type {\n",
       "        vertical-align: middle;\n",
       "    }\n",
       "\n",
       "    .dataframe tbody tr th {\n",
       "        vertical-align: top;\n",
       "    }\n",
       "\n",
       "    .dataframe thead th {\n",
       "        text-align: right;\n",
       "    }\n",
       "</style>\n",
       "<table border=\"1\" class=\"dataframe\">\n",
       "  <thead>\n",
       "    <tr style=\"text-align: right;\">\n",
       "      <th></th>\n",
       "      <th>count</th>\n",
       "      <th>OTPA</th>\n",
       "    </tr>\n",
       "    <tr>\n",
       "      <th>Prediction View(days ahead)</th>\n",
       "      <th></th>\n",
       "      <th></th>\n",
       "    </tr>\n",
       "  </thead>\n",
       "  <tbody>\n",
       "    <tr>\n",
       "      <th>0</th>\n",
       "      <td>136</td>\n",
       "      <td>95.774648</td>\n",
       "    </tr>\n",
       "    <tr>\n",
       "      <th>1</th>\n",
       "      <td>155</td>\n",
       "      <td>89.595376</td>\n",
       "    </tr>\n",
       "    <tr>\n",
       "      <th>2</th>\n",
       "      <td>172</td>\n",
       "      <td>88.659794</td>\n",
       "    </tr>\n",
       "    <tr>\n",
       "      <th>3</th>\n",
       "      <td>156</td>\n",
       "      <td>75.728155</td>\n",
       "    </tr>\n",
       "    <tr>\n",
       "      <th>4</th>\n",
       "      <td>170</td>\n",
       "      <td>65.134100</td>\n",
       "    </tr>\n",
       "    <tr>\n",
       "      <th>...</th>\n",
       "      <td>...</td>\n",
       "      <td>...</td>\n",
       "    </tr>\n",
       "    <tr>\n",
       "      <th>57</th>\n",
       "      <td>0</td>\n",
       "      <td>0.000000</td>\n",
       "    </tr>\n",
       "    <tr>\n",
       "      <th>59</th>\n",
       "      <td>0</td>\n",
       "      <td>0.000000</td>\n",
       "    </tr>\n",
       "    <tr>\n",
       "      <th>63</th>\n",
       "      <td>0</td>\n",
       "      <td>0.000000</td>\n",
       "    </tr>\n",
       "    <tr>\n",
       "      <th>95</th>\n",
       "      <td>0</td>\n",
       "      <td>0.000000</td>\n",
       "    </tr>\n",
       "    <tr>\n",
       "      <th>96</th>\n",
       "      <td>0</td>\n",
       "      <td>0.000000</td>\n",
       "    </tr>\n",
       "  </tbody>\n",
       "</table>\n",
       "<p>62 rows × 2 columns</p>\n",
       "</div>"
      ],
      "text/plain": [
       "                             count       OTPA\n",
       "Prediction View(days ahead)                  \n",
       "0                              136  95.774648\n",
       "1                              155  89.595376\n",
       "2                              172  88.659794\n",
       "3                              156  75.728155\n",
       "4                              170  65.134100\n",
       "...                            ...        ...\n",
       "57                               0   0.000000\n",
       "59                               0   0.000000\n",
       "63                               0   0.000000\n",
       "95                               0   0.000000\n",
       "96                               0   0.000000\n",
       "\n",
       "[62 rows x 2 columns]"
      ]
     },
     "execution_count": 75,
     "metadata": {},
     "output_type": "execute_result"
    }
   ],
   "source": [
    "df_pv_otpa['OTPA'] = (100*df_pv_otpa['count']/n_pv)\n",
    "df_pv_otpa"
   ]
  },
  {
   "cell_type": "code",
   "execution_count": 76,
   "id": "d29920b5",
   "metadata": {},
   "outputs": [
    {
     "data": {
      "image/png": "[encoded data removed]"
     },
     "metadata": {},
     "output_type": "display_data"
    }
   ],
   "source": [
    "fig = px.box(df_pv_otpa['OTPA'], points = 'all')\n",
    "fig.update_layout(\n",
    "    title=\"Box Plot of OTPA/Accuracy wrto Prediction View\",\n",
    "    xaxis_title=\"OTPA/Accuracy\",\n",
    "    yaxis_title=\"Value Count\"\n",
    "    )\n",
    "fig.show('png')"
   ]
  },
  {
   "cell_type": "markdown",
   "id": "15fec5f5",
   "metadata": {},
   "source": [
    "#### Box Plot Summarizes the OTPA/Accuracy Median to be around 30 and OTPA/Accuracy are values fairly distributed in all Quartiles signifying no extreme data points to make any relevant conclusion."
   ]
  },
  {
   "cell_type": "code",
   "execution_count": 77,
   "id": "b5a9ec53",
   "metadata": {},
   "outputs": [
    {
     "data": {
      "image/png": "[encoded data removed]"
     },
     "metadata": {},
     "output_type": "display_data"
    }
   ],
   "source": [
    "fig = px.line(df_pv_otpa['OTPA'])\n",
    "fig.update_layout(\n",
    "    title=\"Line Chart of OTPA/Accuracy over Prediction Days Ahead \",\n",
    "    xaxis_title=\"Prediction Days Ahead\",\n",
    "    yaxis_title=\"OTPA/Accuracy\")\n",
    "    \n",
    "fig.show('png')"
   ]
  },
  {
   "cell_type": "markdown",
   "id": "0b8a7fbd",
   "metadata": {},
   "source": [
    "#### The Line Chart summarizes Better 'OTPA/Accuracy' with minimum \"Prediction Days Ahead\""
   ]
  },
  {
   "cell_type": "markdown",
   "id": "1f7cd96a",
   "metadata": {},
   "source": [
    "#### Box plot helps to understand distribution of data .it provides ranges, quartile and median values whereas Line Charts visualizes trajectory wrto days ahead.Both have very distinguished features which together helps to understand data better.\n"
   ]
  },
  {
   "cell_type": "markdown",
   "id": "38fb6392",
   "metadata": {},
   "source": [
    "# Comparing Accuracy wrto Actual and Prediction Days"
   ]
  },
  {
   "cell_type": "markdown",
   "id": "3137ad2f",
   "metadata": {},
   "source": [
    "### Median Absolute Error"
   ]
  },
  {
   "cell_type": "code",
   "execution_count": 78,
   "id": "f15b2fee",
   "metadata": {},
   "outputs": [
    {
     "data": {
      "image/png": "[encoded data removed]"
     },
     "metadata": {},
     "output_type": "display_data"
    }
   ],
   "source": [
    "fig = go.Figure()\n",
    "fig.add_trace(go.Box(y=df_pv['MAE'].dt.days, name='Prediction days MAE',\n",
    "                marker_color = 'indianred',boxpoints='all'\n",
    "                     #,boxpoints='all' = 'all'\n",
    "                    ))\n",
    "fig.add_trace(go.Box(y=df_av['MAE'].dt.days, name = 'Actual days MAE',\n",
    "                marker_color = 'lightseagreen',boxpoints='all'\n",
    "                     #,points = 'all'\n",
    "                    ))\n",
    "fig.update_layout(\n",
    "    title=\"Box Plot Comparison of MAE over Prediction and Actual Days Ahead\",\n",
    "    #xaxis_title=\"PDays Ahead\",\n",
    "    yaxis_title=\"MAE\")\n",
    "\n",
    "fig.show('png')"
   ]
  },
  {
   "cell_type": "markdown",
   "id": "18d96d30",
   "metadata": {},
   "source": [
    "#### Median Absolute Error wrto Actual Days has generally higher values and much more distributed in comparison to Prediction Days.\n"
   ]
  },
  {
   "cell_type": "code",
   "execution_count": 79,
   "id": "f9d02670",
   "metadata": {},
   "outputs": [
    {
     "data": {
      "image/png": "[encoded data removed]"
     },
     "metadata": {},
     "output_type": "display_data"
    }
   ],
   "source": [
    "\n",
    "fig = go.Figure()\n",
    "\n",
    "fig.add_trace(go.Scatter(x=df_av.index, y=df_av['MAE'].dt.days,\n",
    "                    mode='lines',\n",
    "                    name='Actual days MAE'))\n",
    "fig.add_trace(go.Scatter(x=df_pv.index, y=df_pv['MAE'].dt.days,\n",
    "                    mode='lines',\n",
    "                    name='Prediction days MAE'))\n",
    "fig.update_layout(\n",
    "    title=\"Line Chart Comparison or MAE wrto Actual and Prediction Days\",\n",
    "    xaxis_title=\"Days ahead\",\n",
    "    yaxis_title=\"MAE\"\n",
    "    )\n",
    "\n",
    "fig.show('png')"
   ]
  },
  {
   "cell_type": "markdown",
   "id": "483fe342",
   "metadata": {},
   "source": [
    "### After Observing this,We can Conclude Prediction MAE Error is less when we predict vessel is going to arrive after 40 or more days"
   ]
  },
  {
   "cell_type": "markdown",
   "id": "453e6937",
   "metadata": {},
   "source": [
    "### OTPA/Accuracy"
   ]
  },
  {
   "cell_type": "code",
   "execution_count": 80,
   "id": "27a1db24",
   "metadata": {},
   "outputs": [
    {
     "data": {
      "image/png": "[encoded data removed]"
     },
     "metadata": {},
     "output_type": "display_data"
    }
   ],
   "source": [
    "fig = go.Figure()\n",
    "fig.add_trace(go.Box(y=df_pv_otpa['OTPA'],name='Prediction days OTPA',\n",
    "                marker_color = 'indianred',boxpoints='all'\n",
    "                     #,boxpoints='all' = 'all'\n",
    "                    ))\n",
    "fig.add_trace(go.Box(y=df_av_otpa['OTPA'],name = 'Actual days OTPA',\n",
    "                marker_color = 'lightseagreen',boxpoints='all'\n",
    "                     #,points = 'all'\n",
    "                    ))\n",
    "fig.update_layout(\n",
    "    title=\"Box Plot Comparison of OTPA/Accuracy over Prediction and Actual Days Ahead\",\n",
    "    #xaxis_title=\"PDays Ahead\",\n",
    "    yaxis_title=\"OTPA/Accuracy\")\n",
    "\n",
    "\n",
    "fig.show('png')"
   ]
  },
  {
   "cell_type": "markdown",
   "id": "f914298b",
   "metadata": {},
   "source": [
    "#### OTPA/Accuracy wrto Prediction Days has generally higher values which means better accuracy and much more distributed in comparison to Actual Days."
   ]
  },
  {
   "cell_type": "code",
   "execution_count": 81,
   "id": "347ed3f8",
   "metadata": {},
   "outputs": [
    {
     "data": {
      "image/png": "[encoded data removed]"
     },
     "metadata": {},
     "output_type": "display_data"
    }
   ],
   "source": [
    "fig = go.Figure()\n",
    "\n",
    "fig.add_trace(go.Scatter(x=df_pv_otpa.index, y=df_pv_otpa['OTPA'],\n",
    "                    mode='lines',\n",
    "                    name='Prediction days OTPA'))\n",
    "fig.add_trace(go.Scatter(x=df_av_otpa.index, y=df_av_otpa['OTPA'],\n",
    "                    mode='lines',\n",
    "                    name='Actual days OTPA'))\n",
    "fig.update_layout(\n",
    "    title=\"Line Chart Comparison or OTPA/Accuracy wrto Actual and Prediction Days\",\n",
    "    xaxis_title=\"Days ahead\",\n",
    "    yaxis_title=\"OTPA\"\n",
    "    )\n",
    "\n",
    "fig.show('png')"
   ]
  },
  {
   "cell_type": "markdown",
   "id": "178f79eb",
   "metadata": {},
   "source": [
    "#### OTPA/Accuracy is higher and better wrto Actual days under 40 days timeline .Later on Prediction days OTPA takes over and have better accuracy."
   ]
  },
  {
   "cell_type": "markdown",
   "id": "e76da6df",
   "metadata": {},
   "source": [
    "## Conclusion:"
   ]
  },
  {
   "cell_type": "markdown",
   "id": "6ae1675d",
   "metadata": {},
   "source": [
    "### After Observing these Visualizations ,We can Conclude Predictions are much more accurate when we predict vessel is going to arrive after 40 or more days . This Also Correlate with Prediction MAE Error which is lesser when we predict vessel is going to arrive after 40 or more days  through the Line Charts."
   ]
  },
  {
   "cell_type": "code",
   "execution_count": null,
   "id": "3fdebcba",
   "metadata": {},
   "outputs": [],
   "source": []
  },
  {
   "cell_type": "code",
   "execution_count": null,
   "id": "57e7632a",
   "metadata": {},
   "outputs": [],
   "source": []
  }
 ],
 "metadata": {
  "kernelspec": {
   "display_name": "Python 3 (ipykernel)",
   "language": "python",
   "name": "python3"
  },
  "language_info": {
   "codemirror_mode": {
    "name": "ipython",
    "version": 3
   },
   "file_extension": ".py",
   "mimetype": "text/x-python",
   "name": "python",
   "nbconvert_exporter": "python",
   "pygments_lexer": "ipython3",
   "version": "3.10.9"
  }
 },
 "nbformat": 4,
 "nbformat_minor": 5
}
